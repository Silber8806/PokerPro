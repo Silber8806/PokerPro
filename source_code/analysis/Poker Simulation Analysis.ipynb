{
 "cells": [
  {
   "cell_type": "code",
   "execution_count": 3,
   "metadata": {
    "ExecuteTime": {
     "end_time": "2021-04-30T00:17:37.509511Z",
     "start_time": "2021-04-30T00:17:37.505509Z"
    }
   },
   "outputs": [],
   "source": [
    "import pandas as pd\n",
    "import numpy as np"
   ]
  },
  {
   "cell_type": "code",
   "execution_count": 2,
   "metadata": {
    "ExecuteTime": {
     "end_time": "2021-04-30T00:16:55.968508Z",
     "start_time": "2021-04-30T00:16:55.953511Z"
    }
   },
   "outputs": [
    {
     "data": {
      "text/plain": [
       "'1.1.0'"
      ]
     },
     "execution_count": 2,
     "metadata": {},
     "output_type": "execute_result"
    }
   ],
   "source": [
    "pd.__version__"
   ]
  },
  {
   "cell_type": "code",
   "execution_count": 4,
   "metadata": {
    "ExecuteTime": {
     "end_time": "2021-04-30T00:17:44.187510Z",
     "start_time": "2021-04-30T00:17:44.181509Z"
    }
   },
   "outputs": [
    {
     "data": {
      "text/plain": [
       "'1.19.5'"
      ]
     },
     "execution_count": 4,
     "metadata": {},
     "output_type": "execute_result"
    }
   ],
   "source": [
    "np.__version__"
   ]
  },
  {
   "cell_type": "code",
   "execution_count": 17,
   "metadata": {
    "ExecuteTime": {
     "end_time": "2021-03-10T13:52:04.019145Z",
     "start_time": "2021-03-10T13:52:04.014131Z"
    }
   },
   "outputs": [],
   "source": [
    "import os\n",
    "import numpy as np\n",
    "import pandas as pd\n",
    "import glob\n",
    "import matplotlib\n",
    "import matplotlib.pyplot as plt\n",
    "import scipy.stats as scistats\n",
    "import statistics as stats\n",
    "import seaborn as sns\n",
    "from pathlib import Path"
   ]
  },
  {
   "cell_type": "markdown",
   "metadata": {},
   "source": [
    "## Libraries, Helper Functions and High Level Variables"
   ]
  },
  {
   "cell_type": "code",
   "execution_count": 22,
   "metadata": {
    "ExecuteTime": {
     "end_time": "2021-03-10T13:54:06.136601Z",
     "start_time": "2021-03-10T13:54:06.084597Z"
    }
   },
   "outputs": [],
   "source": [
    "matplotlib.rcParams.update({'font.size': 12})\n",
    "\n",
    "dir_path = Path(os.getcwd())\n",
    "data_dir = str(os.path.join(dir_path,'data'))\n",
    "balance_files = glob.glob(data_dir + \"/poker_balances*.csv\")\n",
    "hands_files = glob.glob(data_dir + \"/poker_hands*.csv\")\n",
    "table_files = glob.glob(data_dir + \"/poker_table_info*.csv\")\n",
    "\n",
    "def get_hands_df():\n",
    "    hands_dfs=[]\n",
    "\n",
    "    for file in hands_files:\n",
    "        new_df = pd.read_csv(file)\n",
    "        hands_dfs.append(new_df)\n",
    "\n",
    "    hands = pd.concat(hands_dfs)\n",
    "    return hands\n",
    "    \n",
    "def get_games_df():\n",
    "    balance_dfs=[]\n",
    "    \n",
    "    for file in balance_files:\n",
    "        new_df = pd.read_csv(file)\n",
    "        balance_dfs.append(new_df)\n",
    "        \n",
    "    balances = pd.concat(balance_dfs)\n",
    "    return balances\n",
    "\n",
    "def get_table_df():\n",
    "    table_dfs=[]\n",
    "    \n",
    "    for file in table_files:\n",
    "        new_df = pd.read_csv(file)\n",
    "        table_dfs.append(new_df)\n",
    "        \n",
    "    tables = pd.concat(table_dfs)\n",
    "    return tables\n"
   ]
  },
  {
   "cell_type": "markdown",
   "metadata": {},
   "source": [
    "## Getting the Data and Augmentation"
   ]
  },
  {
   "cell_type": "code",
   "execution_count": 24,
   "metadata": {
    "ExecuteTime": {
     "end_time": "2021-03-10T13:54:30.466270Z",
     "start_time": "2021-03-10T13:54:18.330435Z"
    }
   },
   "outputs": [],
   "source": [
    "pd.set_option('display.max_columns', None)  \n",
    "hands_base = get_hands_df()\n",
    "games_base = get_games_df()\n",
    "tables = get_table_df()\n",
    "\n",
    "tables['category'] = np.where(tables['scenario_name'].str.startswith('smart'),'smart','conservative')\n",
    "\n",
    "games = pd.merge(games_base,tables)\n",
    "hands = pd.merge(hands_base,games)"
   ]
  },
  {
   "cell_type": "code",
   "execution_count": 26,
   "metadata": {
    "ExecuteTime": {
     "end_time": "2021-03-10T13:54:44.941056Z",
     "start_time": "2021-03-10T13:54:44.923063Z"
    }
   },
   "outputs": [
    {
     "data": {
      "text/html": [
       "<div>\n",
       "<style scoped>\n",
       "    .dataframe tbody tr th:only-of-type {\n",
       "        vertical-align: middle;\n",
       "    }\n",
       "\n",
       "    .dataframe tbody tr th {\n",
       "        vertical-align: top;\n",
       "    }\n",
       "\n",
       "    .dataframe thead th {\n",
       "        text-align: right;\n",
       "    }\n",
       "</style>\n",
       "<table border=\"1\" class=\"dataframe\">\n",
       "  <thead>\n",
       "    <tr style=\"text-align: right;\">\n",
       "      <th></th>\n",
       "      <th>table_id</th>\n",
       "      <th>scenario_name</th>\n",
       "      <th>player_types</th>\n",
       "      <th>category</th>\n",
       "    </tr>\n",
       "  </thead>\n",
       "  <tbody>\n",
       "    <tr>\n",
       "      <th>0</th>\n",
       "      <td>1</td>\n",
       "      <td>smart vs 1 all call player</td>\n",
       "      <td>AlwaysCallPlayer|SmartPlayer</td>\n",
       "      <td>smart</td>\n",
       "    </tr>\n",
       "    <tr>\n",
       "      <th>0</th>\n",
       "      <td>10</td>\n",
       "      <td>smart vs 1 all call player</td>\n",
       "      <td>AlwaysCallPlayer|SmartPlayer</td>\n",
       "      <td>smart</td>\n",
       "    </tr>\n",
       "    <tr>\n",
       "      <th>0</th>\n",
       "      <td>100</td>\n",
       "      <td>smart vs 1 all call player</td>\n",
       "      <td>AlwaysCallPlayer|SmartPlayer</td>\n",
       "      <td>smart</td>\n",
       "    </tr>\n",
       "    <tr>\n",
       "      <th>0</th>\n",
       "      <td>101</td>\n",
       "      <td>smart vs 2 all call player</td>\n",
       "      <td>AlwaysCallPlayer|AlwaysCallPlayer|SmartPlayer</td>\n",
       "      <td>smart</td>\n",
       "    </tr>\n",
       "    <tr>\n",
       "      <th>0</th>\n",
       "      <td>102</td>\n",
       "      <td>smart vs 2 all call player</td>\n",
       "      <td>AlwaysCallPlayer|AlwaysCallPlayer|SmartPlayer</td>\n",
       "      <td>smart</td>\n",
       "    </tr>\n",
       "    <tr>\n",
       "      <th>...</th>\n",
       "      <td>...</td>\n",
       "      <td>...</td>\n",
       "      <td>...</td>\n",
       "      <td>...</td>\n",
       "    </tr>\n",
       "    <tr>\n",
       "      <th>0</th>\n",
       "      <td>95</td>\n",
       "      <td>smart vs 1 all call player</td>\n",
       "      <td>AlwaysCallPlayer|SmartPlayer</td>\n",
       "      <td>smart</td>\n",
       "    </tr>\n",
       "    <tr>\n",
       "      <th>0</th>\n",
       "      <td>96</td>\n",
       "      <td>smart vs 1 all call player</td>\n",
       "      <td>AlwaysCallPlayer|SmartPlayer</td>\n",
       "      <td>smart</td>\n",
       "    </tr>\n",
       "    <tr>\n",
       "      <th>0</th>\n",
       "      <td>97</td>\n",
       "      <td>smart vs 1 all call player</td>\n",
       "      <td>AlwaysCallPlayer|SmartPlayer</td>\n",
       "      <td>smart</td>\n",
       "    </tr>\n",
       "    <tr>\n",
       "      <th>0</th>\n",
       "      <td>98</td>\n",
       "      <td>smart vs 1 all call player</td>\n",
       "      <td>AlwaysCallPlayer|SmartPlayer</td>\n",
       "      <td>smart</td>\n",
       "    </tr>\n",
       "    <tr>\n",
       "      <th>0</th>\n",
       "      <td>99</td>\n",
       "      <td>smart vs 1 all call player</td>\n",
       "      <td>AlwaysCallPlayer|SmartPlayer</td>\n",
       "      <td>smart</td>\n",
       "    </tr>\n",
       "  </tbody>\n",
       "</table>\n",
       "<p>500 rows × 4 columns</p>\n",
       "</div>"
      ],
      "text/plain": [
       "    table_id               scenario_name  \\\n",
       "0          1  smart vs 1 all call player   \n",
       "0         10  smart vs 1 all call player   \n",
       "0        100  smart vs 1 all call player   \n",
       "0        101  smart vs 2 all call player   \n",
       "0        102  smart vs 2 all call player   \n",
       "..       ...                         ...   \n",
       "0         95  smart vs 1 all call player   \n",
       "0         96  smart vs 1 all call player   \n",
       "0         97  smart vs 1 all call player   \n",
       "0         98  smart vs 1 all call player   \n",
       "0         99  smart vs 1 all call player   \n",
       "\n",
       "                                     player_types category  \n",
       "0                    AlwaysCallPlayer|SmartPlayer    smart  \n",
       "0                    AlwaysCallPlayer|SmartPlayer    smart  \n",
       "0                    AlwaysCallPlayer|SmartPlayer    smart  \n",
       "0   AlwaysCallPlayer|AlwaysCallPlayer|SmartPlayer    smart  \n",
       "0   AlwaysCallPlayer|AlwaysCallPlayer|SmartPlayer    smart  \n",
       "..                                            ...      ...  \n",
       "0                    AlwaysCallPlayer|SmartPlayer    smart  \n",
       "0                    AlwaysCallPlayer|SmartPlayer    smart  \n",
       "0                    AlwaysCallPlayer|SmartPlayer    smart  \n",
       "0                    AlwaysCallPlayer|SmartPlayer    smart  \n",
       "0                    AlwaysCallPlayer|SmartPlayer    smart  \n",
       "\n",
       "[500 rows x 4 columns]"
      ]
     },
     "execution_count": 26,
     "metadata": {},
     "output_type": "execute_result"
    }
   ],
   "source": [
    "tables.to_csv('tables.csv')\n",
    "games.to_csv('games.csv')\n",
    "hands.to_csv('hands.to_csv')"
   ]
  },
  {
   "cell_type": "code",
   "execution_count": 31,
   "metadata": {
    "ExecuteTime": {
     "end_time": "2021-03-10T13:58:17.872526Z",
     "start_time": "2021-03-10T13:58:17.743528Z"
    }
   },
   "outputs": [
    {
     "data": {
      "text/html": [
       "<div>\n",
       "<style scoped>\n",
       "    .dataframe tbody tr th:only-of-type {\n",
       "        vertical-align: middle;\n",
       "    }\n",
       "\n",
       "    .dataframe tbody tr th {\n",
       "        vertical-align: top;\n",
       "    }\n",
       "\n",
       "    .dataframe thead th {\n",
       "        text-align: right;\n",
       "    }\n",
       "</style>\n",
       "<table border=\"1\" class=\"dataframe\">\n",
       "  <thead>\n",
       "    <tr style=\"text-align: right;\">\n",
       "      <th></th>\n",
       "      <th>table_id</th>\n",
       "      <th>game_id</th>\n",
       "      <th>player_name</th>\n",
       "      <th>game_result</th>\n",
       "      <th>game_reason</th>\n",
       "      <th>blind_type</th>\n",
       "      <th>final_hand</th>\n",
       "      <th>beginning_balance</th>\n",
       "      <th>game_start_balance</th>\n",
       "      <th>game_end_balance</th>\n",
       "      <th>game_net_change</th>\n",
       "      <th>scenario_name</th>\n",
       "      <th>player_types</th>\n",
       "      <th>category</th>\n",
       "    </tr>\n",
       "    <tr>\n",
       "      <th>player_type</th>\n",
       "      <th></th>\n",
       "      <th></th>\n",
       "      <th></th>\n",
       "      <th></th>\n",
       "      <th></th>\n",
       "      <th></th>\n",
       "      <th></th>\n",
       "      <th></th>\n",
       "      <th></th>\n",
       "      <th></th>\n",
       "      <th></th>\n",
       "      <th></th>\n",
       "      <th></th>\n",
       "      <th></th>\n",
       "    </tr>\n",
       "  </thead>\n",
       "  <tbody>\n",
       "    <tr>\n",
       "      <th>AlwaysCallPlayer</th>\n",
       "      <td>150000</td>\n",
       "      <td>150000</td>\n",
       "      <td>150000</td>\n",
       "      <td>150000</td>\n",
       "      <td>150000</td>\n",
       "      <td>150000</td>\n",
       "      <td>150000</td>\n",
       "      <td>150000</td>\n",
       "      <td>150000</td>\n",
       "      <td>150000</td>\n",
       "      <td>150000</td>\n",
       "      <td>150000</td>\n",
       "      <td>150000</td>\n",
       "      <td>150000</td>\n",
       "    </tr>\n",
       "    <tr>\n",
       "      <th>SmartPlayer</th>\n",
       "      <td>50000</td>\n",
       "      <td>50000</td>\n",
       "      <td>50000</td>\n",
       "      <td>50000</td>\n",
       "      <td>50000</td>\n",
       "      <td>50000</td>\n",
       "      <td>50000</td>\n",
       "      <td>50000</td>\n",
       "      <td>50000</td>\n",
       "      <td>50000</td>\n",
       "      <td>50000</td>\n",
       "      <td>50000</td>\n",
       "      <td>50000</td>\n",
       "      <td>50000</td>\n",
       "    </tr>\n",
       "  </tbody>\n",
       "</table>\n",
       "</div>"
      ],
      "text/plain": [
       "                  table_id  game_id  player_name  game_result  game_reason  \\\n",
       "player_type                                                                  \n",
       "AlwaysCallPlayer    150000   150000       150000       150000       150000   \n",
       "SmartPlayer          50000    50000        50000        50000        50000   \n",
       "\n",
       "                  blind_type  final_hand  beginning_balance  \\\n",
       "player_type                                                   \n",
       "AlwaysCallPlayer      150000      150000             150000   \n",
       "SmartPlayer            50000       50000              50000   \n",
       "\n",
       "                  game_start_balance  game_end_balance  game_net_change  \\\n",
       "player_type                                                               \n",
       "AlwaysCallPlayer              150000            150000           150000   \n",
       "SmartPlayer                    50000             50000            50000   \n",
       "\n",
       "                  scenario_name  player_types  category  \n",
       "player_type                                              \n",
       "AlwaysCallPlayer         150000        150000    150000  \n",
       "SmartPlayer               50000         50000     50000  "
      ]
     },
     "execution_count": 31,
     "metadata": {},
     "output_type": "execute_result"
    }
   ],
   "source": [
    "games.groupby('player_type').count()"
   ]
  },
  {
   "cell_type": "code",
   "execution_count": 30,
   "metadata": {
    "ExecuteTime": {
     "end_time": "2021-03-10T13:57:48.958918Z",
     "start_time": "2021-03-10T13:57:48.883921Z"
    }
   },
   "outputs": [
    {
     "data": {
      "text/html": [
       "<div>\n",
       "<style scoped>\n",
       "    .dataframe tbody tr th:only-of-type {\n",
       "        vertical-align: middle;\n",
       "    }\n",
       "\n",
       "    .dataframe tbody tr th {\n",
       "        vertical-align: top;\n",
       "    }\n",
       "\n",
       "    .dataframe thead th {\n",
       "        text-align: right;\n",
       "    }\n",
       "</style>\n",
       "<table border=\"1\" class=\"dataframe\">\n",
       "  <thead>\n",
       "    <tr style=\"text-align: right;\">\n",
       "      <th></th>\n",
       "      <th>table_id</th>\n",
       "      <th>game_id</th>\n",
       "      <th>player_name</th>\n",
       "      <th>player_type</th>\n",
       "      <th>game_result</th>\n",
       "      <th>game_reason</th>\n",
       "      <th>blind_type</th>\n",
       "      <th>final_hand</th>\n",
       "      <th>beginning_balance</th>\n",
       "      <th>game_start_balance</th>\n",
       "      <th>game_end_balance</th>\n",
       "      <th>game_net_change</th>\n",
       "      <th>scenario_name</th>\n",
       "      <th>player_types</th>\n",
       "      <th>category</th>\n",
       "    </tr>\n",
       "  </thead>\n",
       "  <tbody>\n",
       "  </tbody>\n",
       "</table>\n",
       "</div>"
      ],
      "text/plain": [
       "Empty DataFrame\n",
       "Columns: [table_id, game_id, player_name, player_type, game_result, game_reason, blind_type, final_hand, beginning_balance, game_start_balance, game_end_balance, game_net_change, scenario_name, player_types, category]\n",
       "Index: []"
      ]
     },
     "execution_count": 30,
     "metadata": {},
     "output_type": "execute_result"
    }
   ],
   "source": [
    "games[(games['game_result']=='won') & (games['player_type']=='ConservativePlayer')]"
   ]
  },
  {
   "cell_type": "markdown",
   "metadata": {},
   "source": [
    "## Data Samples"
   ]
  },
  {
   "cell_type": "markdown",
   "metadata": {},
   "source": [
    "We have 3 individual tables: tables, games and hands.  They each represent different types of entities.  This will be explained per table."
   ]
  },
  {
   "cell_type": "markdown",
   "metadata": {},
   "source": [
    "### Table "
   ]
  },
  {
   "cell_type": "markdown",
   "metadata": {},
   "source": [
    "Our simulation software maps a scenario to a simulation, which in-turn runs a set of 2-6 players over 10 poker tables similar to simulation softwares concept of replications.  Each player within a scenario can have one of 3 personas: Smart Player, Conservative Player or Always Calls Player.  Smart Player runs a 100-card monte-carlo simulation everytime he has to make a betting decision, Conservative player ... and always calls player always calls no matter what happens.  Other types of player personas are implemented, but not used in this analysis.  We decided for this analysis to compare the smart player against the conservative player by having each player play 5 different scenarios against 1,2,3,4 and 5 always call type players. Than compare results between the two of them.  The Tables Dataframe below represents scenario and table level information eg simulation and replication info.\n",
    "\n",
    "Fields:\n",
    "\n",
    "* table_id -> replication id representing a poker table\n",
    "* scenario_name -> represents the name of a simulation\n",
    "* player_types -> a pipe delimited list of all player personas or types\n",
    "* category -> if the table is part of the smart or conservative player analysis\n"
   ]
  },
  {
   "cell_type": "code",
   "execution_count": null,
   "metadata": {},
   "outputs": [],
   "source": [
    "tables.head(5)"
   ]
  },
  {
   "cell_type": "markdown",
   "metadata": {},
   "source": [
    "### Games"
   ]
  },
  {
   "cell_type": "markdown",
   "metadata": {},
   "source": [
    "Each table is assigned a French-style poker deck of 52 cards, which it uses to play 100 sequential games of poker with.  It reshuffles the deck after each game.  The balances of the player are carried over between games.  The Games table contains the results of the games and the changes of each players balance as the 100 games progress.  It also records the overall outcome of the player within the game: won/lost and what the final hand would have been (straight, 2-pair, 3-pair etc).  The following information is contained in the Games Data Frame.\n",
    "\n",
    "Fields:\n",
    "* table_id -> a relational link to tables data frame representing the table or replication the row is associated with\n",
    "* game_id -> an id representing one of 100 sequential games for a given table ordered chronologically.\n",
    "* player_name -> name of the player usually player 1,2,3,4,5,6\n",
    "* player_type -> the player personal or strategy used during the match\n",
    "* game_result -> if the player won or lost the round\n",
    "* game_reason -> did the player win or lose the match during the final hand or did he fold or alternatively was the only person that didn't fodl.\n",
    "* blind type -> was the player the small or large blind\n",
    "* beginning balance -> the players balance before joining the table.\n",
    "* game_start_balance -> the player balance during the start of the poker game\n",
    "* game_end_balance -> the player balance after the end of the poker game\n",
    "* game_net_change -> the net change in players balance after the conclusion of the game\n",
    "* scenario_name -> what scenario it belongs too\n",
    "* player_types -> what player personas were involved in the game\n",
    "* category -> what category smart or conservative player analysis dis this game belong to.\n"
   ]
  },
  {
   "cell_type": "code",
   "execution_count": null,
   "metadata": {},
   "outputs": [],
   "source": [
    "games.head(5)"
   ]
  },
  {
   "cell_type": "markdown",
   "metadata": {},
   "source": [
    "### Hands"
   ]
  },
  {
   "cell_type": "markdown",
   "metadata": {},
   "source": [
    "Each Game of poker is actually a set of up to 12 betting decisions per player.  3 for pre-flob, 3-card community, 4-card community and 5 card community post-flops.  A player can: call/check, raise or fold the hand.  Each row in the hands dataframe represents one of these betting decisions and provides all the information a player had when making the bet.  It also shows you the result of the bet.  Useful for stepping through the players action during a game.\n",
    "\n",
    "Fields:\n",
    "* table_id -> table associated with the bet\n",
    "* game_id -> game associated with the bet\n",
    "* player_name -> player name associated with the bet\n",
    "* player_type -> player persona or strategy used during the bet\n",
    "* bet_number -> for this specific game_id what bet number this is (1st bet, 2nd bet etc)\n",
    "* opponents -> number of opponents left\n",
    "* call -> how much the player needs to call to stay in the game\n",
    "* current -> how much the player has in the pot right now\n",
    "* pot -> how large the pot or reward is\n",
    "* allowed -> if the player was allowed to raise or if it was the last round of bets\n",
    "* hand1 -> first card in the players hand (of 2)\n",
    "* hand2 -> the second card in the players hand (of 2)\n",
    "* community1-5 -> 1-5 community card in the post flop\n",
    "\n",
    "Everything after these fields are created from a joing to both table and game for convenice."
   ]
  },
  {
   "cell_type": "code",
   "execution_count": null,
   "metadata": {},
   "outputs": [],
   "source": [
    "hands.head(5)"
   ]
  },
  {
   "cell_type": "markdown",
   "metadata": {},
   "source": [
    "# High Level Statistics - All Simulations"
   ]
  },
  {
   "cell_type": "markdown",
   "metadata": {},
   "source": [
    "We provide a high-level aggregation across all simulations to provide context into the simulation software as a whole.  Since the simulation software is highly configurable, these high level statistics are useful for gauging things like performance or to catch anomalies."
   ]
  },
  {
   "cell_type": "code",
   "execution_count": null,
   "metadata": {},
   "outputs": [],
   "source": [
    "player_final_hands = hands.query('community5 != \"Z-N/A\"').groupby(['table_id','game_id','player_name','hand1','hand2','community1','community2','community3','community4','community5','final_hand']).count().game_result.reset_index().groupby('final_hand').game_id.count().reset_index()\n",
    "player_final_hands_type, player_final_hands_type_numbers = list(zip(*player_final_hands.values))\n",
    "player_final_hands_type = ['player final _hand' + card for card in player_final_hands_type]\n",
    "\n",
    "winning_hands = games.query('game_result == \"won\"').groupby(['game_id','final_hand']).count().groupby('final_hand').count().reset_index()[['final_hand','table_id']]\n",
    "winning_hand_type, winning_hand_type_numbers = list(zip(*winning_hands.values))\n",
    "winning_hand_type = ['won by ' + card for card in winning_hand_type]\n",
    "\n",
    "simulation_overview = pd.DataFrame(\n",
    "    data={\n",
    "            \"Metric\":[\n",
    "                \"scenarios\",\n",
    "                \"player strategies\",\n",
    "                \"active players\",\n",
    "                \"player - bet decisions\",\n",
    "                \"tables\",\n",
    "                \"games\", \n",
    "                \"average chip gain/loss\",\n",
    "                \"average pot size\",\n",
    "                \"unique 2-card combos\",\n",
    "                \"unique end combos\",\n",
    "                \"unique 3-card flops\",\n",
    "                \"unique 4-card flops\",\n",
    "                \"unique 5-card flops\"\n",
    "            ] + list(player_final_hands_type) +\n",
    "                list(winning_hand_type),\n",
    "            \"Total\":[\n",
    "                tables.scenario_name.nunique(),\n",
    "                games.player_type.nunique(),\n",
    "                games.groupby(['table_id','player_name']).game_result.count().reset_index().shape[0],\n",
    "                hands.shape[0],\n",
    "                tables.table_id.nunique(),\n",
    "                games.groupby(['table_id', 'game_id']).ngroups,\n",
    "                round(games.game_net_change.mean(),0),\n",
    "                round(hands.pot.mean(),0),\n",
    "                hands.groupby(['hand1','hand2']).count().reset_index().shape[0],\n",
    "                hands.query('community5 != \"Z-N/A\"').groupby(['hand1','hand2','community1','community2','community3','community4','community5']).count().reset_index().shape[0],\n",
    "                hands.query('community1 != \"Z-N/A\"').groupby(['community1','community2','community3']).count().reset_index().shape[0],\n",
    "                hands.query('community4 != \"Z-N/A\"').groupby(['community1','community2','community3','community4']).count().reset_index().shape[0],\n",
    "                hands.query('community5 != \"Z-N/A\"').groupby(['community1','community2','community3','community4','community5']).count().reset_index().shape[0]\n",
    "            ] + list(player_final_hands_type_numbers) +\n",
    "                list(winning_hand_type_numbers)\n",
    "    },\n",
    "    columns = ['Metric','Total']\n",
    ")\n",
    "\n",
    "simulation_overview"
   ]
  },
  {
   "cell_type": "markdown",
   "metadata": {},
   "source": [
    "# Performance over all Games by Player Type"
   ]
  },
  {
   "cell_type": "markdown",
   "metadata": {},
   "source": [
    "Below we provide a reference for all replications (tables) within each scenario by averaging the mean net change in each persons chips over all games as well as variance and standard deviation.  We also report the players, lowest and highest balances."
   ]
  },
  {
   "cell_type": "code",
   "execution_count": null,
   "metadata": {},
   "outputs": [],
   "source": [
    "table_level_statistics = games.groupby(['category','scenario_name','table_id','player_name','player_type']).agg({\n",
    "    \"game_net_change\":[np.mean,lambda col: np.var(col,ddof=1),'count'],\n",
    "    \"game_end_balance\":[np.min,np.max]\n",
    "}).reset_index().sort_values(['table_id','player_name'])\n",
    "\n",
    "table_level_statistics.columns = ['category','scenario_name','table_id','player_name','player_type','table_mean','table_variance','count','player_lowest_balance','player_highest_balance']\n",
    "table_level_statistics['confidence_interval'] = table_level_statistics.apply(lambda df: scistats.t.interval(alpha=.99,df=df['count'],loc=df['table_mean'],scale=np.sqrt(df['table_variance'])/np.sqrt(df['count'])),axis=1)\n",
    "table_level_statistics['lower_bound_95%'], table_level_statistics['upper_bound_95%'] = zip(*table_level_statistics.confidence_interval)\n",
    "table_level_statistics.pop('confidence_interval')\n",
    "table_level_statistics\n",
    "\n"
   ]
  },
  {
   "cell_type": "markdown",
   "metadata": {},
   "source": [
    "Below graph, we look at all 10 of our scenarios by player.  The top 10 graphs represent our conservative scenarios in descending order of number of players.  The bottom 10 scenarios show Smart Player in descending number of opponents.  You can see that Smart Player shifts right as more players are added, while his opponents tend to lose about the same amount of chips per table.  This is due to the fact that the always call opponents make the same type of decisions and lose about the same percent of the time, but the smart player gets to reap the benefits of those calls by on average winning a larger parts due to more contributors."
   ]
  },
  {
   "cell_type": "code",
   "execution_count": null,
   "metadata": {},
   "outputs": [],
   "source": [
    "fig, axis = plt.subplots(10,2,figsize=(20, 20), sharex = True)\n",
    "\n",
    "table_level_statistics.hist(\n",
    "        column='table_mean',\n",
    "        by=['scenario_name','player_type'],\n",
    "        grid = True,\n",
    "        bins = list(range(-800,800,25)),\n",
    "        ax = axis\n",
    ")\n",
    "\n",
    "for row in axis:\n",
    "    for col in row:\n",
    "        player_name = col.title.get_text().split(',')[1]\n",
    "        players_involved = int(''.join(i for i in col.title.get_text().split(',')[0] if i.isdigit())) + 1\n",
    "        graph_title = player_name[:-1] + ' - ' + str(players_involved)\n",
    "        col.set_title(graph_title)\n",
    "\n",
    "fig.text(0.5,0.05, \"Bet Loss or Gain ($USD)\", ha=\"center\", va=\"center\")\n",
    "fig.text(0.05,0.5, \"Number of Games\", ha=\"center\", va=\"center\", rotation=90)\n"
   ]
  },
  {
   "cell_type": "markdown",
   "metadata": {},
   "source": [
    "We can also look at the mean, variance and standard deviation of players across all games within a scenario.  Sometimes interesting patterns emerge."
   ]
  },
  {
   "cell_type": "code",
   "execution_count": null,
   "metadata": {},
   "outputs": [],
   "source": [
    "pd.options.display.float_format = '{:.5f}'.format\n",
    "\n",
    "game_level_statistics = games.groupby(['category','scenario_name','player_name','player_type']).agg({\n",
    "    \"game_net_change\":[np.mean,lambda col: np.var(col,ddof=1)],\n",
    "    \"game_end_balance\":[np.min,np.max]\n",
    "}).reset_index().sort_values(['player_name'])\n",
    "\n",
    "game_level_statistics.columns = ['category','scenario_name','player_name','player_type','game_mean','game_variance','min_balance','max_balance']\n",
    "\n",
    "game_level_statistics.sort_values(['player_type','scenario_name'],ascending=False)"
   ]
  },
  {
   "cell_type": "markdown",
   "metadata": {},
   "source": [
    "The overall game end balance is sequential, so it's a bit misleading to graph it as a box plot since each observation is not independent.  That said, the patterns in the distributions of end balances do have interesting properties in terms of ranges, mean and quartile that create an interesting observation.  Smart player's average is higher than 75% quantile of the All Call Players with the bottom of his range being about as bad as the mean of the all call players.  Smart playres end balance has significant amount of outliers sometimes 30% or more from the starting balanace.  The end balance for all call player tends to be lower, but not so drastic as the smart player.  partially due to the fact that in multiplayer games, Smart player can collect from many Always call players mitigating the damage."
   ]
  },
  {
   "cell_type": "code",
   "execution_count": null,
   "metadata": {},
   "outputs": [],
   "source": [
    "axis = games.boxplot(\n",
    "        column=['game_end_balance'],\n",
    "        by=['player_type','category'],\n",
    "        figsize=(10,5),\n",
    "        rot=33\n",
    ")\n",
    "\n",
    "plt.suptitle(\"Player Balances by Strategy and Scenario Type\")\n",
    "axis.set_title('Conservative and Smart Players vs Opponents')\n",
    "axis.set_ylabel('Player Balance (USD) over all games')\n",
    "axis.set_xlabel('Player Strategies by Scenario Type')\n",
    "\n",
    "axis_replace={\n",
    "    'AlwaysCallPlayer': 'always call player',\n",
    "    'SmartPlayer': 'smart player',\n",
    "    'ConservativePlayer': 'conservative player'\n",
    "}\n",
    "\n",
    "axis_cat_labels = [ax.get_text()[1:-1].split(',') for ax in axis.get_xmajorticklabels()]\n",
    "axis_cat_labels = [axis_replace[ax[0]] + ' -' + ax[1] + ' scenario' for ax in axis_cat_labels]\n",
    "axis.set_xticklabels(axis_cat_labels)\n"
   ]
  },
  {
   "cell_type": "markdown",
   "metadata": {},
   "source": [
    "# Performance of Player Balances over Time"
   ]
  },
  {
   "cell_type": "markdown",
   "metadata": {},
   "source": [
    "We provide the time series we used for the player balance over 100 games.  We included all 10 scenarios here.  The game_id is mapped sequentially from 1-100.  Table id is uniquely mapped as well.  On average, the player balance for smart player increases dramatically at the expense of all call players."
   ]
  },
  {
   "cell_type": "code",
   "execution_count": null,
   "metadata": {},
   "outputs": [],
   "source": [
    "time_series = games[['category','scenario_name','player_name','player_type','table_id','game_id','game_end_balance']]\n",
    "time_series['game_id'] = (time_series['game_id'] - 1) % 100\n",
    "time_series['table_id'] = (time_series['table_id'] - 1) % 10\n",
    "time_series = time_series.pivot_table(index=['category','scenario_name','player_name','player_type','table_id'],columns=['game_id'],values='game_end_balance').reset_index()\n",
    "time_series"
   ]
  },
  {
   "cell_type": "markdown",
   "metadata": {},
   "source": [
    "Below we provide per game confidence intervals for each player in each scenario category: conservative vs smart player.  Here you can look into the data about how poker players did relatively to the number of games played."
   ]
  },
  {
   "cell_type": "code",
   "execution_count": null,
   "metadata": {},
   "outputs": [],
   "source": [
    "time_series = games[['category','player_type','game_id','game_end_balance']]\n",
    "time_series['game_id'] = (time_series['game_id'] - 1) % 100\n",
    "time_series_stats = time_series.groupby(['category','player_type','game_id']).agg(\n",
    "    {'game_end_balance':[\n",
    "        ['mean',np.mean],\n",
    "        ['sample_var',lambda col: np.var(col,ddof=1)],\n",
    "        ['N','count']]\n",
    "    }\n",
    ").reset_index()\n",
    "\n",
    "time_series_stats.columns = ['category','player_type','game_id','mean','sample_var','N']\n",
    "time_series_stats['confidence_interval'] = time_series_stats.apply(lambda df: scistats.norm.interval(alpha=.95, loc=df['mean'],scale=np.sqrt(df['sample_var'])/np.sqrt(df['N'])),axis=1)\n",
    "time_series_stats['lower_bound_95%'], time_series_stats['upper_bound_95%'] = zip(*time_series_stats.confidence_interval)\n",
    "time_series_stats.pop('confidence_interval')\n",
    "time_series_stats"
   ]
  },
  {
   "cell_type": "markdown",
   "metadata": {},
   "source": [
    "This graphic shows you the mean balance between all player classes within the conservative and smart player types as well as the 95th confidence interval for ending player balance over time.  As you can see, Smart Player does well at the expense of the all call players.  He seems to do so at a relatively consistent rate."
   ]
  },
  {
   "cell_type": "code",
   "execution_count": null,
   "metadata": {
    "scrolled": true
   },
   "outputs": [],
   "source": [
    "fig, axis = plt.subplots(2,2,figsize=(20, 20),sharey=True)\n",
    "\n",
    "time_series = games[['category','player_type','game_id','game_end_balance']]\n",
    "time_series['game_id'] = (time_series['game_id'] - 1) % 100\n",
    "\n",
    "all_axis = []\n",
    "\n",
    "for row in axis:\n",
    "    for col in row:\n",
    "        all_axis.append(col)\n",
    "        \n",
    "        \n",
    "categories_to_plot = time_series[['category','player_type']].drop_duplicates()\n",
    "\n",
    "plot_num = 0\n",
    "for index, row in categories_to_plot.iterrows():\n",
    "    ax = all_axis[plot_num]\n",
    "    plot_num += 1\n",
    "    player_type, category = row['player_type'], row['category']\n",
    "    query_filter = 'player_type == \"{}\" and category == \"{}\"'.format(player_type,category)\n",
    "    plot_data = time_series.query(query_filter)\n",
    "    sns.lineplot(x=plot_data['game_id'],y=plot_data['game_end_balance'],ax=ax)\n",
    "    ax.tick_params(axis='x', labelsize=15)\n",
    "    ax.tick_params(axis='y', labelsize=15)\n",
    "    ax.set_title('Scenario: {} - Player {}'.format(category,player_type),fontsize=20)\n",
    "    ax.set_ylabel('End Game Balance ($USD)',fontsize=20)\n",
    "    ax.set_xlabel('Game Number (for Poker Table)',fontsize=20)\n",
    "\n"
   ]
  },
  {
   "cell_type": "code",
   "execution_count": null,
   "metadata": {},
   "outputs": [],
   "source": [
    "fig, axis = plt.subplots(4,5,figsize=(40, 40),sharey=True)\n",
    "\n",
    "time_series = games[['category','scenario_name','player_type','game_id','game_end_balance']]\n",
    "time_series['game_id'] = (time_series['game_id'] - 1) % 100\n",
    "\n",
    "all_axis = []\n",
    "\n",
    "for row in axis:\n",
    "    for col in row:\n",
    "        all_axis.append(col)\n",
    "        \n",
    "categories_to_plot = time_series[['category','scenario_name','player_type']].drop_duplicates()\n",
    "categories_to_plot['sort_order'] =  categories_to_plot.scenario_name.str.extract('(\\d+)')\n",
    "categories_to_plot = categories_to_plot.sort_values(['category','player_type','sort_order'])\n",
    "\n",
    "plot_num = 0\n",
    "for index, row in categories_to_plot.iterrows():\n",
    "    ax = all_axis[plot_num]\n",
    "    plot_num += 1\n",
    "    player_type, category, scenario_name, number = row['player_type'], row['category'], row['scenario_name'], row['sort_order']\n",
    "    query_filter = 'player_type == \"{}\" and category == \"{}\" and scenario_name == \"{}\"'.format(player_type,category,scenario_name)\n",
    "    plot_data = time_series.query(query_filter)\n",
    "    sns.lineplot(x=plot_data['game_id'],y=plot_data['game_end_balance'],ax=ax)\n",
    "    ax.tick_params(axis='x', labelsize=25)\n",
    "    ax.tick_params(axis='y', labelsize=25)\n",
    "    if plot_num > 15:\n",
    "        ax.set_xlabel('Game Number',fontsize=30)\n",
    "    else:\n",
    "        ax.get_xaxis().set_visible(False)\n",
    "    ax.set_title('{} - {}'.format(player_type,int(number) + 1),fontsize=40)\n",
    "    ax.set_ylabel('End Game Balance ($USD)',fontsize=30)\n",
    "    \n",
    "\n",
    "plt.tight_layout()"
   ]
  },
  {
   "cell_type": "markdown",
   "metadata": {},
   "source": [
    "# Analysis of 2 Card Games, Flob and River performance"
   ]
  },
  {
   "cell_type": "code",
   "execution_count": null,
   "metadata": {},
   "outputs": [],
   "source": [
    "pre_flop_hands = hands.query('community1 == \"Z-N/A\" and bet_number == \"1\"')\n",
    "analysis_data = pre_flop_hands[['category','player_type','opponents','hand1','hand2','game_reason','game_net_change']]\n",
    "analysis_data[['rank1', 'suit1']] = analysis_data['hand1'].str.split('-', 1, expand=True)\n",
    "analysis_data[['rank2', 'suit2']] = analysis_data['hand2'].str.split('-', 1, expand=True)\n",
    "analysis_data['same_suit'] = analysis_data['suit1'] == analysis_data['suit2']\n",
    "analysis_data"
   ]
  },
  {
   "cell_type": "code",
   "execution_count": null,
   "metadata": {},
   "outputs": [],
   "source": [
    "analysis_data.groupby(['hand1','hand2']).game_reason.count().hist()"
   ]
  },
  {
   "cell_type": "code",
   "execution_count": null,
   "metadata": {},
   "outputs": [],
   "source": [
    "per_game_type = analysis_data.groupby(['rank1','rank2','game_reason']).category.count().reset_index()\n",
    "games_total = analysis_data.groupby(['rank1','rank2']).game_net_change.count().reset_index()\n",
    "pre_flop_data = pd.merge(per_game_type,games_total).sort_values(['rank1','rank2'])\n",
    "game_stats = pre_flop_data.pivot(index =['rank1','rank2','game_net_change'], columns = ['game_reason'], values =['category']).reset_index()\n",
    "game_stats.columns = [c[1] if c[1] else c[0] for c in game_stats.columns]\n",
    "game_stats = game_stats.fillna(0)\n",
    "game_stats['fold_percent'] = game_stats['fold'] / game_stats['game_net_change']\n",
    "game_stats['last_man_standing_percent'] = game_stats['last_man_standing'] / game_stats['game_net_change']\n",
    "game_stats['lost_game_percent'] = game_stats['lost_game'] / game_stats['game_net_change']\n",
    "game_stats['won_game_percent'] = game_stats['won_game'] / game_stats['game_net_change']\n",
    "game_stats"
   ]
  },
  {
   "cell_type": "code",
   "execution_count": null,
   "metadata": {},
   "outputs": [],
   "source": [
    "fig, axis = plt.subplots(2,2,figsize=(30, 30))\n",
    "\n",
    "percentages = game_stats[['rank1','rank2'] + [c for c in game_stats.columns if c.endswith('percent')]].sort_values(['won_game_percent','last_man_standing_percent','fold_percent','lost_game_percent'],ascending=False)\n",
    "\n",
    "all_axis = []\n",
    "\n",
    "for row in axis:\n",
    "    for col in row:\n",
    "        all_axis.append(col)\n",
    "        \n",
    "rank_order = ['2','3','4','5','6','7','8','9','10','J','Q','K','A']\n",
    "\n",
    "plot_num = 0\n",
    "for percent in [c for c in percentages.columns if c.endswith('percent')]:\n",
    "    ax = all_axis[plot_num]\n",
    "    percents_pivot = percentages.pivot(index='rank2',columns='rank1',values=percent)\n",
    "    percents_pivot = percents_pivot.loc[rank_order,rank_order]\n",
    "    sns.heatmap(percents_pivot, annot = True, ax = ax,cmap=\"YlGnBu\",fmt=\".0%\", annot_kws={'size': 25}, cbar=False)\n",
    "    ax.set_title(percent.replace('_',' '),fontsize=40)\n",
    "    ax.set_xlabel('low card',fontsize=25)\n",
    "    ax.set_ylabel('high card',fontsize=25)\n",
    "    ax.tick_params(axis='x', labelsize=25)\n",
    "    ax.tick_params(axis='y', labelsize=25)\n",
    "    plot_num += 1\n",
    "    \n",
    "plt.tight_layout()"
   ]
  },
  {
   "cell_type": "code",
   "execution_count": null,
   "metadata": {},
   "outputs": [],
   "source": [
    "per_game_type = analysis_data.groupby(['rank1','rank2','same_suit','game_reason']).category.count().reset_index()\n",
    "games_total = analysis_data.groupby(['rank1','rank2','same_suit',]).game_net_change.count().reset_index()\n",
    "pre_flop_data = pd.merge(per_game_type,games_total).sort_values(['rank1','rank2','same_suit'])\n",
    "game_stats = pre_flop_data.pivot(index =['rank1','rank2','game_net_change','same_suit'], columns = ['game_reason'], values =['category']).reset_index()\n",
    "game_stats.columns = [c[1] if c[1] else c[0] for c in game_stats.columns]\n",
    "game_stats = game_stats.fillna(0)\n",
    "game_stats['fold_percent'] = game_stats['fold'] / game_stats['game_net_change']\n",
    "game_stats['last_man_standing_percent'] = game_stats['last_man_standing'] / game_stats['game_net_change']\n",
    "game_stats['lost_game_percent'] = game_stats['lost_game'] / game_stats['game_net_change']\n",
    "game_stats['won_game_percent'] = game_stats['won_game'] / game_stats['game_net_change']\n",
    "game_stats"
   ]
  },
  {
   "cell_type": "code",
   "execution_count": null,
   "metadata": {},
   "outputs": [],
   "source": [
    "fig, axis = plt.subplots(1,2,figsize=(25, 15))\n",
    "\n",
    "percentages = game_stats[['rank1','rank2','same_suit','won_game_percent']]\n",
    "\n",
    "all_axis = []\n",
    "\n",
    "for row in axis:\n",
    "    all_axis.append(row)\n",
    "        \n",
    "rank_order = ['2','3','4','5','6','7','8','9','10','J','Q','K','A']\n",
    "\n",
    "max_val = percentages.query(\"rank1 != rank2\").won_game_percent.max()\n",
    "min_val = percentages.query(\"rank1 != rank2\").won_game_percent.min()\n",
    "\n",
    "plot_num = 0\n",
    "for suite_type, percent in ((False,'won_game_percent'),(True,'won_game_percent')):\n",
    "    ax = all_axis[plot_num]\n",
    "    filtered_percentages = percentages.query('same_suit == {} and rank1 != rank2'.format(suite_type))\n",
    "    rank1_order = [rank for rank in rank_order if rank in set(filtered_percentages['rank1'].to_list())]\n",
    "    rank2_order = [rank for rank in rank_order if rank in set(filtered_percentages['rank2'].to_list())]\n",
    "    percents_pivot = filtered_percentages.pivot(index='rank2',columns='rank1',values=percent)\n",
    "    percents_pivot = percents_pivot.loc[rank2_order,rank1_order]\n",
    "    sns.heatmap(percents_pivot, annot = True, ax = ax,cmap=\"YlGnBu\",fmt=\".0%\",vmax=max_val, vmin=min_val, annot_kws={'size': 25}, cbar=False)\n",
    "    ax.set_title(percent.replace('_',' ') + ' - ' + ('same suite' if suite_type else 'opposing suite'),fontsize=25)\n",
    "    ax.set_xlabel('low card',fontsize=25)\n",
    "    ax.set_ylabel('high card',fontsize=25)\n",
    "    ax.tick_params(axis='x', labelsize=25)\n",
    "    ax.tick_params(axis='y', labelsize=25)\n",
    "    plot_num += 1\n",
    "    print(percents_pivot.mean().mean())\n",
    "    \n",
    "plt.tight_layout()"
   ]
  },
  {
   "cell_type": "code",
   "execution_count": null,
   "metadata": {},
   "outputs": [],
   "source": [
    "24 - 16"
   ]
  },
  {
   "cell_type": "code",
   "execution_count": null,
   "metadata": {},
   "outputs": [],
   "source": [
    "per_game_type = analysis_data.groupby(['player_type','rank1','rank2','same_suit','game_reason']).category.count().reset_index()\n",
    "games_total = analysis_data.groupby(['player_type','rank1','rank2','same_suit',]).game_net_change.count().reset_index()\n",
    "pre_flop_data = pd.merge(per_game_type,games_total).sort_values(['player_type','rank1','rank2','same_suit'])\n",
    "game_stats = pre_flop_data.pivot(index =['player_type','rank1','rank2','game_net_change','same_suit'], columns = ['game_reason'], values =['category']).reset_index()\n",
    "game_stats.columns = [c[1] if c[1] else c[0] for c in game_stats.columns]\n",
    "game_stats = game_stats.fillna(0)\n",
    "game_stats['fold_percent'] = game_stats['fold'] / game_stats['game_net_change']\n",
    "game_stats['last_man_standing_percent'] = game_stats['last_man_standing'] / game_stats['game_net_change']\n",
    "game_stats['lost_game_percent'] = game_stats['lost_game'] / game_stats['game_net_change']\n",
    "game_stats['won_game_percent'] = game_stats['won_game'] / game_stats['game_net_change']\n",
    "game_stats"
   ]
  },
  {
   "cell_type": "code",
   "execution_count": null,
   "metadata": {},
   "outputs": [],
   "source": [
    "fig, axis = plt.subplots(3,3,figsize=(40, 30))\n",
    "\n",
    "percentages = game_stats[['player_type','same_suit','rank1','rank2'] + [c for c in game_stats.columns if c.endswith('percent')]].sort_values(['won_game_percent','last_man_standing_percent','fold_percent','lost_game_percent'],ascending=False)\n",
    "\n",
    "all_axis = []\n",
    "\n",
    "for row in axis:\n",
    "    for col in row:\n",
    "        all_axis.append(col)\n",
    "\n",
    "rank_order = ['2','3','4','5','6','7','8','9','10','J','Q','K','A']\n",
    "\n",
    "suite_options = [True, False,False]\n",
    "rank_options = [False,False,True]\n",
    "player_type_options = ['AlwaysCallPlayer','SmartPlayer','ConservativePlayer']\n",
    "options = [(suit, rank, player_type, 'won_game_percent') for suit,rank in zip(suite_options,rank_options) for player_type in player_type_options]\n",
    "\n",
    "max_val = percentages.won_game_percent.max()\n",
    "min_val = percentages.won_game_percent.min()\n",
    "\n",
    "plot_num = 0\n",
    "for suite_type,rank_type, player_type, percent in options:\n",
    "    ax = all_axis[plot_num]\n",
    "    if rank_type:\n",
    "        query = 'same_suit == {} and player_type == \"{}\" and rank1 == rank2'.format(suite_type,player_type)\n",
    "    else:\n",
    "        query = 'same_suit == {} and player_type == \"{}\" and rank1 != rank2'.format(suite_type,player_type)\n",
    "    filtered_percentages = percentages.query(query)\n",
    "    rank1_order = [rank for rank in rank_order if rank in set(filtered_percentages['rank1'].to_list())]\n",
    "    rank2_order = [rank for rank in rank_order if rank in set(filtered_percentages['rank2'].to_list())]\n",
    "    percents_pivot = filtered_percentages.pivot(index='rank2',columns='rank1',values=percent)\n",
    "    percents_pivot = percents_pivot.loc[rank2_order,rank1_order]\n",
    "    sns.heatmap(percents_pivot, annot = True, ax = ax,cmap=\"YlGnBu\",fmt=\".0%\",vmax=max_val, vmin=min_val, annot_kws={'size': 28}, cbar=False)\n",
    "    title = player_type + ' games won - ' + ('same suite - ' if suite_type else 'opposing suite - ') + ('pairs' if rank_type else 'non-pairs') \n",
    "    ax.set_title(title,fontsize=30)\n",
    "    ax.set_xlabel('low card',fontsize=25)\n",
    "    ax.set_ylabel('high card',fontsize=25)\n",
    "    ax.tick_params(axis='x', labelsize=25)\n",
    "    ax.tick_params(axis='y', labelsize=25)\n",
    "    plot_num += 1\n",
    "    \n",
    "plt.tight_layout()"
   ]
  },
  {
   "cell_type": "code",
   "execution_count": null,
   "metadata": {},
   "outputs": [],
   "source": [
    "fig, axis = plt.subplots(3,3,figsize=(40, 30))\n",
    "\n",
    "percentages = game_stats[['player_type','same_suit','rank1','rank2'] + [c for c in game_stats.columns if c.endswith('percent')]].sort_values(['won_game_percent','last_man_standing_percent','fold_percent','lost_game_percent'],ascending=False)\n",
    "\n",
    "all_axis = []\n",
    "\n",
    "for row in axis:\n",
    "    for col in row:\n",
    "        all_axis.append(col)\n",
    "\n",
    "rank_order = ['2','3','4','5','6','7','8','9','10','J','Q','K','A']\n",
    "\n",
    "suite_options = [True, False,False]\n",
    "rank_options = [False,False,True]\n",
    "player_type_options = ['AlwaysCallPlayer','SmartPlayer','ConservativePlayer']\n",
    "options = [(suit, rank, player_type, 'fold_percent') for suit,rank in zip(suite_options,rank_options) for player_type in player_type_options]\n",
    "\n",
    "max_val = percentages.won_game_percent.max()\n",
    "min_val = percentages.won_game_percent.min()\n",
    "\n",
    "plot_num = 0\n",
    "for suite_type,rank_type, player_type, percent in options:\n",
    "    ax = all_axis[plot_num]\n",
    "    if rank_type:\n",
    "        query = 'same_suit == {} and player_type == \"{}\" and rank1 == rank2'.format(suite_type,player_type)\n",
    "    else:\n",
    "        query = 'same_suit == {} and player_type == \"{}\" and rank1 != rank2'.format(suite_type,player_type)\n",
    "    filtered_percentages = percentages.query(query)\n",
    "    rank1_order = [rank for rank in rank_order if rank in set(filtered_percentages['rank1'].to_list())]\n",
    "    rank2_order = [rank for rank in rank_order if rank in set(filtered_percentages['rank2'].to_list())]\n",
    "    percents_pivot = filtered_percentages.pivot(index='rank2',columns='rank1',values=percent)\n",
    "    percents_pivot = percents_pivot.loc[rank2_order,rank1_order]\n",
    "    sns.heatmap(percents_pivot, annot = True, ax = ax,cmap=\"YlGnBu\",fmt=\".0%\",vmax=max_val, vmin=min_val, annot_kws={'size': 26}, cbar=False)\n",
    "    title = player_type + ' games folded - ' + ('same suite - ' if suite_type else 'opposing suite - ') + ('pairs' if rank_type else 'non-pairs') \n",
    "    ax.set_title(title,fontsize=30)\n",
    "    ax.set_xlabel('low card',fontsize=25)\n",
    "    ax.set_ylabel('high card',fontsize=25)\n",
    "    ax.tick_params(axis='x', labelsize=25)\n",
    "    ax.tick_params(axis='y', labelsize=25)\n",
    "    plot_num += 1\n",
    "    \n",
    "plt.tight_layout()"
   ]
  },
  {
   "cell_type": "code",
   "execution_count": null,
   "metadata": {},
   "outputs": [],
   "source": [
    "fig, axis = plt.subplots(3,3,figsize=(40, 30))\n",
    "\n",
    "percentages = game_stats[['player_type','same_suit','rank1','rank2'] + [c for c in game_stats.columns if c.endswith('percent')]].sort_values(['won_game_percent','last_man_standing_percent','fold_percent','lost_game_percent'],ascending=False)\n",
    "\n",
    "all_axis = []\n",
    "\n",
    "for row in axis:\n",
    "    for col in row:\n",
    "        all_axis.append(col)\n",
    "\n",
    "rank_order = ['2','3','4','5','6','7','8','9','10','J','Q','K','A']\n",
    "\n",
    "suite_options = [True, False,False]\n",
    "rank_options = [False,False,True]\n",
    "player_type_options = ['AlwaysCallPlayer','SmartPlayer','ConservativePlayer']\n",
    "options = [(suit, rank, player_type, 'lost_game_percent') for suit,rank in zip(suite_options,rank_options) for player_type in player_type_options]\n",
    "\n",
    "max_val = percentages.won_game_percent.max()\n",
    "min_val = percentages.won_game_percent.min()\n",
    "\n",
    "plot_num = 0\n",
    "for suite_type,rank_type, player_type, percent in options:\n",
    "    ax = all_axis[plot_num]\n",
    "    if rank_type:\n",
    "        query = 'same_suit == {} and player_type == \"{}\" and rank1 == rank2'.format(suite_type,player_type)\n",
    "    else:\n",
    "        query = 'same_suit == {} and player_type == \"{}\" and rank1 != rank2'.format(suite_type,player_type)\n",
    "    filtered_percentages = percentages.query(query)\n",
    "    rank1_order = [rank for rank in rank_order if rank in set(filtered_percentages['rank1'].to_list())]\n",
    "    rank2_order = [rank for rank in rank_order if rank in set(filtered_percentages['rank2'].to_list())]\n",
    "    percents_pivot = filtered_percentages.pivot(index='rank2',columns='rank1',values=percent)\n",
    "    percents_pivot = percents_pivot.loc[rank2_order,rank1_order]\n",
    "    sns.heatmap(percents_pivot, annot = True, ax = ax,cmap=\"YlGnBu\",fmt=\".0%\",vmax=max_val, vmin=min_val, annot_kws={'size': 26}, cbar=False)\n",
    "    title = player_type + ' games folded - ' + ('same suite - ' if suite_type else 'opposing suite - ') + ('pairs' if rank_type else 'non-pairs') \n",
    "    ax.set_title(title,fontsize=30)\n",
    "    ax.set_xlabel('low card',fontsize=25)\n",
    "    ax.set_ylabel('high card',fontsize=25)\n",
    "    ax.tick_params(axis='x', labelsize=25)\n",
    "    ax.tick_params(axis='y', labelsize=25)\n",
    "    plot_num += 1\n",
    "    \n",
    "plt.tight_layout()"
   ]
  },
  {
   "cell_type": "code",
   "execution_count": null,
   "metadata": {},
   "outputs": [],
   "source": []
  }
 ],
 "metadata": {
  "kernelspec": {
   "display_name": "Python 3",
   "language": "python",
   "name": "python3"
  },
  "language_info": {
   "codemirror_mode": {
    "name": "ipython",
    "version": 3
   },
   "file_extension": ".py",
   "mimetype": "text/x-python",
   "name": "python",
   "nbconvert_exporter": "python",
   "pygments_lexer": "ipython3",
   "version": "3.7.4"
  },
  "toc": {
   "base_numbering": 1,
   "nav_menu": {},
   "number_sections": true,
   "sideBar": true,
   "skip_h1_title": false,
   "title_cell": "Table of Contents",
   "title_sidebar": "Contents",
   "toc_cell": false,
   "toc_position": {},
   "toc_section_display": true,
   "toc_window_display": false
  }
 },
 "nbformat": 4,
 "nbformat_minor": 2
}
