{
 "cells": [
  {
   "cell_type": "code",
   "execution_count": 1,
   "metadata": {
    "ExecuteTime": {
     "end_time": "2021-04-13T00:05:42.440094Z",
     "start_time": "2021-04-13T00:05:35.051211Z"
    }
   },
   "outputs": [],
   "source": [
    "import os\n",
    "import pandas as pd\n",
    "import glob\n",
    "import plotly.express as px\n",
    "from pathlib import Path"
   ]
  },
  {
   "cell_type": "code",
   "execution_count": 2,
   "metadata": {
    "ExecuteTime": {
     "end_time": "2021-04-13T00:05:42.463095Z",
     "start_time": "2021-04-13T00:05:42.448094Z"
    }
   },
   "outputs": [],
   "source": [
    "dir_path = Path(os.getcwd())\n",
    "data_dir = str(os.path.join(dir_path.parent,'data'))\n",
    "balance_files = glob.glob(data_dir + \"/poker_balances*.csv\")\n",
    "hands_files = glob.glob(data_dir + \"/poker_hands*.csv\")\n",
    "table_files = glob.glob(data_dir + \"/poker_table_info*.csv\")\n",
    "\n",
    "def get_hands_df():\n",
    "    hands_dfs=[]\n",
    "\n",
    "    for file in hands_files:\n",
    "        new_df = pd.read_csv(file)\n",
    "        hands_dfs.append(new_df)\n",
    "\n",
    "    hands = pd.concat(hands_dfs)\n",
    "    return hands\n",
    "    \n",
    "def get_games_df():\n",
    "    balance_dfs=[]\n",
    "    \n",
    "    for file in balance_files:\n",
    "        new_df = pd.read_csv(file)\n",
    "        balance_dfs.append(new_df)\n",
    "        \n",
    "    balances = pd.concat(balance_dfs)\n",
    "    return balances\n",
    "\n",
    "def get_table_df():\n",
    "    table_dfs=[]\n",
    "    \n",
    "    for file in table_files:\n",
    "        new_df = pd.read_csv(file)\n",
    "        table_dfs.append(new_df)\n",
    "        \n",
    "    tables = pd.concat(table_dfs)\n",
    "    return tables\n"
   ]
  },
  {
   "cell_type": "code",
   "execution_count": 3,
   "metadata": {
    "ExecuteTime": {
     "end_time": "2021-04-13T00:05:42.634090Z",
     "start_time": "2021-04-13T00:05:42.465092Z"
    }
   },
   "outputs": [],
   "source": [
    "pd.set_option('display.max_columns', None)  \n",
    "hands_base = get_hands_df()\n",
    "games_base = get_games_df()\n",
    "tables = get_table_df()\n",
    "\n",
    "games = pd.merge(games_base,tables)\n",
    "hands = pd.merge(hands_base,games)"
   ]
  },
  {
   "cell_type": "code",
   "execution_count": 4,
   "metadata": {
    "ExecuteTime": {
     "end_time": "2021-04-13T00:05:44.729057Z",
     "start_time": "2021-04-13T00:05:44.701057Z"
    }
   },
   "outputs": [
    {
     "data": {
      "text/html": [
       "<div>\n",
       "<style scoped>\n",
       "    .dataframe tbody tr th:only-of-type {\n",
       "        vertical-align: middle;\n",
       "    }\n",
       "\n",
       "    .dataframe tbody tr th {\n",
       "        vertical-align: top;\n",
       "    }\n",
       "\n",
       "    .dataframe thead th {\n",
       "        text-align: right;\n",
       "    }\n",
       "</style>\n",
       "<table border=\"1\" class=\"dataframe\">\n",
       "  <thead>\n",
       "    <tr style=\"text-align: right;\">\n",
       "      <th></th>\n",
       "      <th>table_id</th>\n",
       "      <th>scenario_name</th>\n",
       "      <th>player_types</th>\n",
       "    </tr>\n",
       "  </thead>\n",
       "  <tbody>\n",
       "    <tr>\n",
       "      <th>0</th>\n",
       "      <td>1</td>\n",
       "      <td>smart vs 5 all different types player</td>\n",
       "      <td>AlwaysCallPlayer|AlwaysRaisePlayer|simpleLearn...</td>\n",
       "    </tr>\n",
       "    <tr>\n",
       "      <th>0</th>\n",
       "      <td>2</td>\n",
       "      <td>smart vs 5 all different types player</td>\n",
       "      <td>AlwaysCallPlayer|AlwaysRaisePlayer|simpleLearn...</td>\n",
       "    </tr>\n",
       "    <tr>\n",
       "      <th>0</th>\n",
       "      <td>3</td>\n",
       "      <td>smart vs 5 all different types player</td>\n",
       "      <td>AlwaysCallPlayer|AlwaysRaisePlayer|simpleLearn...</td>\n",
       "    </tr>\n",
       "  </tbody>\n",
       "</table>\n",
       "</div>"
      ],
      "text/plain": [
       "   table_id                          scenario_name  \\\n",
       "0         1  smart vs 5 all different types player   \n",
       "0         2  smart vs 5 all different types player   \n",
       "0         3  smart vs 5 all different types player   \n",
       "\n",
       "                                        player_types  \n",
       "0  AlwaysCallPlayer|AlwaysRaisePlayer|simpleLearn...  \n",
       "0  AlwaysCallPlayer|AlwaysRaisePlayer|simpleLearn...  \n",
       "0  AlwaysCallPlayer|AlwaysRaisePlayer|simpleLearn...  "
      ]
     },
     "execution_count": 4,
     "metadata": {},
     "output_type": "execute_result"
    }
   ],
   "source": [
    "tables"
   ]
  },
  {
   "cell_type": "code",
   "execution_count": 5,
   "metadata": {
    "ExecuteTime": {
     "end_time": "2021-04-13T00:05:47.370016Z",
     "start_time": "2021-04-13T00:05:47.331018Z"
    }
   },
   "outputs": [
    {
     "data": {
      "text/html": [
       "<div>\n",
       "<style scoped>\n",
       "    .dataframe tbody tr th:only-of-type {\n",
       "        vertical-align: middle;\n",
       "    }\n",
       "\n",
       "    .dataframe tbody tr th {\n",
       "        vertical-align: top;\n",
       "    }\n",
       "\n",
       "    .dataframe thead th {\n",
       "        text-align: right;\n",
       "    }\n",
       "</style>\n",
       "<table border=\"1\" class=\"dataframe\">\n",
       "  <thead>\n",
       "    <tr style=\"text-align: right;\">\n",
       "      <th></th>\n",
       "      <th>table_id</th>\n",
       "      <th>game_id</th>\n",
       "      <th>player_name</th>\n",
       "      <th>player_type</th>\n",
       "      <th>game_result</th>\n",
       "      <th>game_reason</th>\n",
       "      <th>blind_type</th>\n",
       "      <th>final_hand</th>\n",
       "      <th>beginning_balance</th>\n",
       "      <th>game_start_balance</th>\n",
       "      <th>game_end_balance</th>\n",
       "      <th>game_net_change</th>\n",
       "      <th>scenario_name</th>\n",
       "      <th>player_types</th>\n",
       "    </tr>\n",
       "  </thead>\n",
       "  <tbody>\n",
       "    <tr>\n",
       "      <th>0</th>\n",
       "      <td>1</td>\n",
       "      <td>1000001</td>\n",
       "      <td>players_3</td>\n",
       "      <td>simpleLearnerPlayer</td>\n",
       "      <td>lost</td>\n",
       "      <td>lost_game</td>\n",
       "      <td>big</td>\n",
       "      <td>two_pair</td>\n",
       "      <td>100000</td>\n",
       "      <td>100000.0</td>\n",
       "      <td>99990.0</td>\n",
       "      <td>-10.0</td>\n",
       "      <td>smart vs 5 all different types player</td>\n",
       "      <td>AlwaysCallPlayer|AlwaysRaisePlayer|simpleLearn...</td>\n",
       "    </tr>\n",
       "    <tr>\n",
       "      <th>1</th>\n",
       "      <td>1</td>\n",
       "      <td>1000002</td>\n",
       "      <td>players_3</td>\n",
       "      <td>simpleLearnerPlayer</td>\n",
       "      <td>lost</td>\n",
       "      <td>lost_game</td>\n",
       "      <td>None</td>\n",
       "      <td>one_pair</td>\n",
       "      <td>100000</td>\n",
       "      <td>99990.0</td>\n",
       "      <td>99990.0</td>\n",
       "      <td>0.0</td>\n",
       "      <td>smart vs 5 all different types player</td>\n",
       "      <td>AlwaysCallPlayer|AlwaysRaisePlayer|simpleLearn...</td>\n",
       "    </tr>\n",
       "    <tr>\n",
       "      <th>2</th>\n",
       "      <td>1</td>\n",
       "      <td>1000003</td>\n",
       "      <td>players_3</td>\n",
       "      <td>simpleLearnerPlayer</td>\n",
       "      <td>won</td>\n",
       "      <td>won_game</td>\n",
       "      <td>small</td>\n",
       "      <td>one_pair</td>\n",
       "      <td>100000</td>\n",
       "      <td>99990.0</td>\n",
       "      <td>100325.0</td>\n",
       "      <td>335.0</td>\n",
       "      <td>smart vs 5 all different types player</td>\n",
       "      <td>AlwaysCallPlayer|AlwaysRaisePlayer|simpleLearn...</td>\n",
       "    </tr>\n",
       "    <tr>\n",
       "      <th>3</th>\n",
       "      <td>1</td>\n",
       "      <td>1000004</td>\n",
       "      <td>players_3</td>\n",
       "      <td>simpleLearnerPlayer</td>\n",
       "      <td>lost</td>\n",
       "      <td>lost_game</td>\n",
       "      <td>big</td>\n",
       "      <td>two_pair</td>\n",
       "      <td>100000</td>\n",
       "      <td>100325.0</td>\n",
       "      <td>100315.0</td>\n",
       "      <td>-10.0</td>\n",
       "      <td>smart vs 5 all different types player</td>\n",
       "      <td>AlwaysCallPlayer|AlwaysRaisePlayer|simpleLearn...</td>\n",
       "    </tr>\n",
       "    <tr>\n",
       "      <th>4</th>\n",
       "      <td>1</td>\n",
       "      <td>1000005</td>\n",
       "      <td>players_3</td>\n",
       "      <td>simpleLearnerPlayer</td>\n",
       "      <td>lost</td>\n",
       "      <td>lost_game</td>\n",
       "      <td>None</td>\n",
       "      <td>one_pair</td>\n",
       "      <td>100000</td>\n",
       "      <td>100315.0</td>\n",
       "      <td>100315.0</td>\n",
       "      <td>0.0</td>\n",
       "      <td>smart vs 5 all different types player</td>\n",
       "      <td>AlwaysCallPlayer|AlwaysRaisePlayer|simpleLearn...</td>\n",
       "    </tr>\n",
       "    <tr>\n",
       "      <th>...</th>\n",
       "      <td>...</td>\n",
       "      <td>...</td>\n",
       "      <td>...</td>\n",
       "      <td>...</td>\n",
       "      <td>...</td>\n",
       "      <td>...</td>\n",
       "      <td>...</td>\n",
       "      <td>...</td>\n",
       "      <td>...</td>\n",
       "      <td>...</td>\n",
       "      <td>...</td>\n",
       "      <td>...</td>\n",
       "      <td>...</td>\n",
       "      <td>...</td>\n",
       "    </tr>\n",
       "    <tr>\n",
       "      <th>85</th>\n",
       "      <td>3</td>\n",
       "      <td>3000006</td>\n",
       "      <td>players_2</td>\n",
       "      <td>AlwaysRaisePlayer</td>\n",
       "      <td>won</td>\n",
       "      <td>won_game</td>\n",
       "      <td>None</td>\n",
       "      <td>one_pair</td>\n",
       "      <td>100000</td>\n",
       "      <td>99150.0</td>\n",
       "      <td>99320.0</td>\n",
       "      <td>170.0</td>\n",
       "      <td>smart vs 5 all different types player</td>\n",
       "      <td>AlwaysCallPlayer|AlwaysRaisePlayer|simpleLearn...</td>\n",
       "    </tr>\n",
       "    <tr>\n",
       "      <th>86</th>\n",
       "      <td>3</td>\n",
       "      <td>3000007</td>\n",
       "      <td>players_2</td>\n",
       "      <td>AlwaysRaisePlayer</td>\n",
       "      <td>won</td>\n",
       "      <td>won_game</td>\n",
       "      <td>small</td>\n",
       "      <td>one_pair</td>\n",
       "      <td>100000</td>\n",
       "      <td>99320.0</td>\n",
       "      <td>99490.0</td>\n",
       "      <td>170.0</td>\n",
       "      <td>smart vs 5 all different types player</td>\n",
       "      <td>AlwaysCallPlayer|AlwaysRaisePlayer|simpleLearn...</td>\n",
       "    </tr>\n",
       "    <tr>\n",
       "      <th>87</th>\n",
       "      <td>3</td>\n",
       "      <td>3000008</td>\n",
       "      <td>players_2</td>\n",
       "      <td>AlwaysRaisePlayer</td>\n",
       "      <td>won</td>\n",
       "      <td>won_game</td>\n",
       "      <td>big</td>\n",
       "      <td>two_pair</td>\n",
       "      <td>100000</td>\n",
       "      <td>99490.0</td>\n",
       "      <td>99660.0</td>\n",
       "      <td>170.0</td>\n",
       "      <td>smart vs 5 all different types player</td>\n",
       "      <td>AlwaysCallPlayer|AlwaysRaisePlayer|simpleLearn...</td>\n",
       "    </tr>\n",
       "    <tr>\n",
       "      <th>88</th>\n",
       "      <td>3</td>\n",
       "      <td>3000009</td>\n",
       "      <td>players_2</td>\n",
       "      <td>AlwaysRaisePlayer</td>\n",
       "      <td>won</td>\n",
       "      <td>won_game</td>\n",
       "      <td>None</td>\n",
       "      <td>straight</td>\n",
       "      <td>100000</td>\n",
       "      <td>99660.0</td>\n",
       "      <td>99830.0</td>\n",
       "      <td>170.0</td>\n",
       "      <td>smart vs 5 all different types player</td>\n",
       "      <td>AlwaysCallPlayer|AlwaysRaisePlayer|simpleLearn...</td>\n",
       "    </tr>\n",
       "    <tr>\n",
       "      <th>89</th>\n",
       "      <td>3</td>\n",
       "      <td>3000010</td>\n",
       "      <td>players_2</td>\n",
       "      <td>AlwaysRaisePlayer</td>\n",
       "      <td>won</td>\n",
       "      <td>won_game</td>\n",
       "      <td>small</td>\n",
       "      <td>two_pair</td>\n",
       "      <td>100000</td>\n",
       "      <td>99830.0</td>\n",
       "      <td>100000.0</td>\n",
       "      <td>170.0</td>\n",
       "      <td>smart vs 5 all different types player</td>\n",
       "      <td>AlwaysCallPlayer|AlwaysRaisePlayer|simpleLearn...</td>\n",
       "    </tr>\n",
       "  </tbody>\n",
       "</table>\n",
       "<p>90 rows × 14 columns</p>\n",
       "</div>"
      ],
      "text/plain": [
       "    table_id  game_id player_name          player_type game_result  \\\n",
       "0          1  1000001   players_3  simpleLearnerPlayer        lost   \n",
       "1          1  1000002   players_3  simpleLearnerPlayer        lost   \n",
       "2          1  1000003   players_3  simpleLearnerPlayer         won   \n",
       "3          1  1000004   players_3  simpleLearnerPlayer        lost   \n",
       "4          1  1000005   players_3  simpleLearnerPlayer        lost   \n",
       "..       ...      ...         ...                  ...         ...   \n",
       "85         3  3000006   players_2    AlwaysRaisePlayer         won   \n",
       "86         3  3000007   players_2    AlwaysRaisePlayer         won   \n",
       "87         3  3000008   players_2    AlwaysRaisePlayer         won   \n",
       "88         3  3000009   players_2    AlwaysRaisePlayer         won   \n",
       "89         3  3000010   players_2    AlwaysRaisePlayer         won   \n",
       "\n",
       "   game_reason blind_type final_hand  beginning_balance  game_start_balance  \\\n",
       "0    lost_game        big   two_pair             100000            100000.0   \n",
       "1    lost_game       None   one_pair             100000             99990.0   \n",
       "2     won_game      small   one_pair             100000             99990.0   \n",
       "3    lost_game        big   two_pair             100000            100325.0   \n",
       "4    lost_game       None   one_pair             100000            100315.0   \n",
       "..         ...        ...        ...                ...                 ...   \n",
       "85    won_game       None   one_pair             100000             99150.0   \n",
       "86    won_game      small   one_pair             100000             99320.0   \n",
       "87    won_game        big   two_pair             100000             99490.0   \n",
       "88    won_game       None   straight             100000             99660.0   \n",
       "89    won_game      small   two_pair             100000             99830.0   \n",
       "\n",
       "    game_end_balance  game_net_change                          scenario_name  \\\n",
       "0            99990.0            -10.0  smart vs 5 all different types player   \n",
       "1            99990.0              0.0  smart vs 5 all different types player   \n",
       "2           100325.0            335.0  smart vs 5 all different types player   \n",
       "3           100315.0            -10.0  smart vs 5 all different types player   \n",
       "4           100315.0              0.0  smart vs 5 all different types player   \n",
       "..               ...              ...                                    ...   \n",
       "85           99320.0            170.0  smart vs 5 all different types player   \n",
       "86           99490.0            170.0  smart vs 5 all different types player   \n",
       "87           99660.0            170.0  smart vs 5 all different types player   \n",
       "88           99830.0            170.0  smart vs 5 all different types player   \n",
       "89          100000.0            170.0  smart vs 5 all different types player   \n",
       "\n",
       "                                         player_types  \n",
       "0   AlwaysCallPlayer|AlwaysRaisePlayer|simpleLearn...  \n",
       "1   AlwaysCallPlayer|AlwaysRaisePlayer|simpleLearn...  \n",
       "2   AlwaysCallPlayer|AlwaysRaisePlayer|simpleLearn...  \n",
       "3   AlwaysCallPlayer|AlwaysRaisePlayer|simpleLearn...  \n",
       "4   AlwaysCallPlayer|AlwaysRaisePlayer|simpleLearn...  \n",
       "..                                                ...  \n",
       "85  AlwaysCallPlayer|AlwaysRaisePlayer|simpleLearn...  \n",
       "86  AlwaysCallPlayer|AlwaysRaisePlayer|simpleLearn...  \n",
       "87  AlwaysCallPlayer|AlwaysRaisePlayer|simpleLearn...  \n",
       "88  AlwaysCallPlayer|AlwaysRaisePlayer|simpleLearn...  \n",
       "89  AlwaysCallPlayer|AlwaysRaisePlayer|simpleLearn...  \n",
       "\n",
       "[90 rows x 14 columns]"
      ]
     },
     "execution_count": 5,
     "metadata": {},
     "output_type": "execute_result"
    }
   ],
   "source": [
    "games"
   ]
  },
  {
   "cell_type": "code",
   "execution_count": 10,
   "metadata": {
    "ExecuteTime": {
     "end_time": "2021-04-08T00:15:25.612890Z",
     "start_time": "2021-04-08T00:15:25.269857Z"
    }
   },
   "outputs": [
    {
     "data": {
      "application/vnd.plotly.v1+json": {
       "config": {
        "plotlyServerURL": "https://plot.ly"
       },
       "data": [
        {
         "hoverlabel": {
          "namelength": 0
         },
         "hovertemplate": "player_name=players_1<br>game_id=%{x}<br>game_end_balance=%{y}",
         "legendgroup": "player_name=players_1",
         "line": {
          "color": "#636efa",
          "dash": "solid"
         },
         "mode": "lines",
         "name": "player_name=players_1",
         "showlegend": true,
         "type": "scatter",
         "x": [
          1000001,
          1000002,
          1000003,
          1000004,
          1000005,
          1000006,
          1000007,
          1000008,
          1000009,
          1000010
         ],
         "xaxis": "x",
         "y": [
          100170,
          100260,
          100090,
          100180,
          100010,
          99920,
          100090,
          100180,
          100010,
          100100
         ],
         "yaxis": "y"
        },
        {
         "hoverlabel": {
          "namelength": 0
         },
         "hovertemplate": "player_name=players_2<br>game_id=%{x}<br>game_end_balance=%{y}",
         "legendgroup": "player_name=players_2",
         "line": {
          "color": "#EF553B",
          "dash": "solid"
         },
         "mode": "lines",
         "name": "player_name=players_2",
         "showlegend": true,
         "type": "scatter",
         "x": [
          1000001,
          1000002,
          1000003,
          1000004,
          1000005,
          1000006,
          1000007,
          1000008,
          1000009,
          1000010
         ],
         "xaxis": "x",
         "y": [
          99830,
          99740,
          99910,
          99820,
          99990,
          100080,
          99910,
          99820,
          99990,
          99900
         ],
         "yaxis": "y"
        }
       ],
       "layout": {
        "legend": {
         "tracegroupgap": 0
        },
        "margin": {
         "t": 60
        },
        "template": {
         "data": {
          "bar": [
           {
            "error_x": {
             "color": "#2a3f5f"
            },
            "error_y": {
             "color": "#2a3f5f"
            },
            "marker": {
             "line": {
              "color": "#E5ECF6",
              "width": 0.5
             }
            },
            "type": "bar"
           }
          ],
          "barpolar": [
           {
            "marker": {
             "line": {
              "color": "#E5ECF6",
              "width": 0.5
             }
            },
            "type": "barpolar"
           }
          ],
          "carpet": [
           {
            "aaxis": {
             "endlinecolor": "#2a3f5f",
             "gridcolor": "white",
             "linecolor": "white",
             "minorgridcolor": "white",
             "startlinecolor": "#2a3f5f"
            },
            "baxis": {
             "endlinecolor": "#2a3f5f",
             "gridcolor": "white",
             "linecolor": "white",
             "minorgridcolor": "white",
             "startlinecolor": "#2a3f5f"
            },
            "type": "carpet"
           }
          ],
          "choropleth": [
           {
            "colorbar": {
             "outlinewidth": 0,
             "ticks": ""
            },
            "type": "choropleth"
           }
          ],
          "contour": [
           {
            "colorbar": {
             "outlinewidth": 0,
             "ticks": ""
            },
            "colorscale": [
             [
              0,
              "#0d0887"
             ],
             [
              0.1111111111111111,
              "#46039f"
             ],
             [
              0.2222222222222222,
              "#7201a8"
             ],
             [
              0.3333333333333333,
              "#9c179e"
             ],
             [
              0.4444444444444444,
              "#bd3786"
             ],
             [
              0.5555555555555556,
              "#d8576b"
             ],
             [
              0.6666666666666666,
              "#ed7953"
             ],
             [
              0.7777777777777778,
              "#fb9f3a"
             ],
             [
              0.8888888888888888,
              "#fdca26"
             ],
             [
              1,
              "#f0f921"
             ]
            ],
            "type": "contour"
           }
          ],
          "contourcarpet": [
           {
            "colorbar": {
             "outlinewidth": 0,
             "ticks": ""
            },
            "type": "contourcarpet"
           }
          ],
          "heatmap": [
           {
            "colorbar": {
             "outlinewidth": 0,
             "ticks": ""
            },
            "colorscale": [
             [
              0,
              "#0d0887"
             ],
             [
              0.1111111111111111,
              "#46039f"
             ],
             [
              0.2222222222222222,
              "#7201a8"
             ],
             [
              0.3333333333333333,
              "#9c179e"
             ],
             [
              0.4444444444444444,
              "#bd3786"
             ],
             [
              0.5555555555555556,
              "#d8576b"
             ],
             [
              0.6666666666666666,
              "#ed7953"
             ],
             [
              0.7777777777777778,
              "#fb9f3a"
             ],
             [
              0.8888888888888888,
              "#fdca26"
             ],
             [
              1,
              "#f0f921"
             ]
            ],
            "type": "heatmap"
           }
          ],
          "heatmapgl": [
           {
            "colorbar": {
             "outlinewidth": 0,
             "ticks": ""
            },
            "colorscale": [
             [
              0,
              "#0d0887"
             ],
             [
              0.1111111111111111,
              "#46039f"
             ],
             [
              0.2222222222222222,
              "#7201a8"
             ],
             [
              0.3333333333333333,
              "#9c179e"
             ],
             [
              0.4444444444444444,
              "#bd3786"
             ],
             [
              0.5555555555555556,
              "#d8576b"
             ],
             [
              0.6666666666666666,
              "#ed7953"
             ],
             [
              0.7777777777777778,
              "#fb9f3a"
             ],
             [
              0.8888888888888888,
              "#fdca26"
             ],
             [
              1,
              "#f0f921"
             ]
            ],
            "type": "heatmapgl"
           }
          ],
          "histogram": [
           {
            "marker": {
             "colorbar": {
              "outlinewidth": 0,
              "ticks": ""
             }
            },
            "type": "histogram"
           }
          ],
          "histogram2d": [
           {
            "colorbar": {
             "outlinewidth": 0,
             "ticks": ""
            },
            "colorscale": [
             [
              0,
              "#0d0887"
             ],
             [
              0.1111111111111111,
              "#46039f"
             ],
             [
              0.2222222222222222,
              "#7201a8"
             ],
             [
              0.3333333333333333,
              "#9c179e"
             ],
             [
              0.4444444444444444,
              "#bd3786"
             ],
             [
              0.5555555555555556,
              "#d8576b"
             ],
             [
              0.6666666666666666,
              "#ed7953"
             ],
             [
              0.7777777777777778,
              "#fb9f3a"
             ],
             [
              0.8888888888888888,
              "#fdca26"
             ],
             [
              1,
              "#f0f921"
             ]
            ],
            "type": "histogram2d"
           }
          ],
          "histogram2dcontour": [
           {
            "colorbar": {
             "outlinewidth": 0,
             "ticks": ""
            },
            "colorscale": [
             [
              0,
              "#0d0887"
             ],
             [
              0.1111111111111111,
              "#46039f"
             ],
             [
              0.2222222222222222,
              "#7201a8"
             ],
             [
              0.3333333333333333,
              "#9c179e"
             ],
             [
              0.4444444444444444,
              "#bd3786"
             ],
             [
              0.5555555555555556,
              "#d8576b"
             ],
             [
              0.6666666666666666,
              "#ed7953"
             ],
             [
              0.7777777777777778,
              "#fb9f3a"
             ],
             [
              0.8888888888888888,
              "#fdca26"
             ],
             [
              1,
              "#f0f921"
             ]
            ],
            "type": "histogram2dcontour"
           }
          ],
          "mesh3d": [
           {
            "colorbar": {
             "outlinewidth": 0,
             "ticks": ""
            },
            "type": "mesh3d"
           }
          ],
          "parcoords": [
           {
            "line": {
             "colorbar": {
              "outlinewidth": 0,
              "ticks": ""
             }
            },
            "type": "parcoords"
           }
          ],
          "pie": [
           {
            "automargin": true,
            "type": "pie"
           }
          ],
          "scatter": [
           {
            "marker": {
             "colorbar": {
              "outlinewidth": 0,
              "ticks": ""
             }
            },
            "type": "scatter"
           }
          ],
          "scatter3d": [
           {
            "line": {
             "colorbar": {
              "outlinewidth": 0,
              "ticks": ""
             }
            },
            "marker": {
             "colorbar": {
              "outlinewidth": 0,
              "ticks": ""
             }
            },
            "type": "scatter3d"
           }
          ],
          "scattercarpet": [
           {
            "marker": {
             "colorbar": {
              "outlinewidth": 0,
              "ticks": ""
             }
            },
            "type": "scattercarpet"
           }
          ],
          "scattergeo": [
           {
            "marker": {
             "colorbar": {
              "outlinewidth": 0,
              "ticks": ""
             }
            },
            "type": "scattergeo"
           }
          ],
          "scattergl": [
           {
            "marker": {
             "colorbar": {
              "outlinewidth": 0,
              "ticks": ""
             }
            },
            "type": "scattergl"
           }
          ],
          "scattermapbox": [
           {
            "marker": {
             "colorbar": {
              "outlinewidth": 0,
              "ticks": ""
             }
            },
            "type": "scattermapbox"
           }
          ],
          "scatterpolar": [
           {
            "marker": {
             "colorbar": {
              "outlinewidth": 0,
              "ticks": ""
             }
            },
            "type": "scatterpolar"
           }
          ],
          "scatterpolargl": [
           {
            "marker": {
             "colorbar": {
              "outlinewidth": 0,
              "ticks": ""
             }
            },
            "type": "scatterpolargl"
           }
          ],
          "scatterternary": [
           {
            "marker": {
             "colorbar": {
              "outlinewidth": 0,
              "ticks": ""
             }
            },
            "type": "scatterternary"
           }
          ],
          "surface": [
           {
            "colorbar": {
             "outlinewidth": 0,
             "ticks": ""
            },
            "colorscale": [
             [
              0,
              "#0d0887"
             ],
             [
              0.1111111111111111,
              "#46039f"
             ],
             [
              0.2222222222222222,
              "#7201a8"
             ],
             [
              0.3333333333333333,
              "#9c179e"
             ],
             [
              0.4444444444444444,
              "#bd3786"
             ],
             [
              0.5555555555555556,
              "#d8576b"
             ],
             [
              0.6666666666666666,
              "#ed7953"
             ],
             [
              0.7777777777777778,
              "#fb9f3a"
             ],
             [
              0.8888888888888888,
              "#fdca26"
             ],
             [
              1,
              "#f0f921"
             ]
            ],
            "type": "surface"
           }
          ],
          "table": [
           {
            "cells": {
             "fill": {
              "color": "#EBF0F8"
             },
             "line": {
              "color": "white"
             }
            },
            "header": {
             "fill": {
              "color": "#C8D4E3"
             },
             "line": {
              "color": "white"
             }
            },
            "type": "table"
           }
          ]
         },
         "layout": {
          "annotationdefaults": {
           "arrowcolor": "#2a3f5f",
           "arrowhead": 0,
           "arrowwidth": 1
          },
          "coloraxis": {
           "colorbar": {
            "outlinewidth": 0,
            "ticks": ""
           }
          },
          "colorscale": {
           "diverging": [
            [
             0,
             "#8e0152"
            ],
            [
             0.1,
             "#c51b7d"
            ],
            [
             0.2,
             "#de77ae"
            ],
            [
             0.3,
             "#f1b6da"
            ],
            [
             0.4,
             "#fde0ef"
            ],
            [
             0.5,
             "#f7f7f7"
            ],
            [
             0.6,
             "#e6f5d0"
            ],
            [
             0.7,
             "#b8e186"
            ],
            [
             0.8,
             "#7fbc41"
            ],
            [
             0.9,
             "#4d9221"
            ],
            [
             1,
             "#276419"
            ]
           ],
           "sequential": [
            [
             0,
             "#0d0887"
            ],
            [
             0.1111111111111111,
             "#46039f"
            ],
            [
             0.2222222222222222,
             "#7201a8"
            ],
            [
             0.3333333333333333,
             "#9c179e"
            ],
            [
             0.4444444444444444,
             "#bd3786"
            ],
            [
             0.5555555555555556,
             "#d8576b"
            ],
            [
             0.6666666666666666,
             "#ed7953"
            ],
            [
             0.7777777777777778,
             "#fb9f3a"
            ],
            [
             0.8888888888888888,
             "#fdca26"
            ],
            [
             1,
             "#f0f921"
            ]
           ],
           "sequentialminus": [
            [
             0,
             "#0d0887"
            ],
            [
             0.1111111111111111,
             "#46039f"
            ],
            [
             0.2222222222222222,
             "#7201a8"
            ],
            [
             0.3333333333333333,
             "#9c179e"
            ],
            [
             0.4444444444444444,
             "#bd3786"
            ],
            [
             0.5555555555555556,
             "#d8576b"
            ],
            [
             0.6666666666666666,
             "#ed7953"
            ],
            [
             0.7777777777777778,
             "#fb9f3a"
            ],
            [
             0.8888888888888888,
             "#fdca26"
            ],
            [
             1,
             "#f0f921"
            ]
           ]
          },
          "colorway": [
           "#636efa",
           "#EF553B",
           "#00cc96",
           "#ab63fa",
           "#FFA15A",
           "#19d3f3",
           "#FF6692",
           "#B6E880",
           "#FF97FF",
           "#FECB52"
          ],
          "font": {
           "color": "#2a3f5f"
          },
          "geo": {
           "bgcolor": "white",
           "lakecolor": "white",
           "landcolor": "#E5ECF6",
           "showlakes": true,
           "showland": true,
           "subunitcolor": "white"
          },
          "hoverlabel": {
           "align": "left"
          },
          "hovermode": "closest",
          "mapbox": {
           "style": "light"
          },
          "paper_bgcolor": "white",
          "plot_bgcolor": "#E5ECF6",
          "polar": {
           "angularaxis": {
            "gridcolor": "white",
            "linecolor": "white",
            "ticks": ""
           },
           "bgcolor": "#E5ECF6",
           "radialaxis": {
            "gridcolor": "white",
            "linecolor": "white",
            "ticks": ""
           }
          },
          "scene": {
           "xaxis": {
            "backgroundcolor": "#E5ECF6",
            "gridcolor": "white",
            "gridwidth": 2,
            "linecolor": "white",
            "showbackground": true,
            "ticks": "",
            "zerolinecolor": "white"
           },
           "yaxis": {
            "backgroundcolor": "#E5ECF6",
            "gridcolor": "white",
            "gridwidth": 2,
            "linecolor": "white",
            "showbackground": true,
            "ticks": "",
            "zerolinecolor": "white"
           },
           "zaxis": {
            "backgroundcolor": "#E5ECF6",
            "gridcolor": "white",
            "gridwidth": 2,
            "linecolor": "white",
            "showbackground": true,
            "ticks": "",
            "zerolinecolor": "white"
           }
          },
          "shapedefaults": {
           "line": {
            "color": "#2a3f5f"
           }
          },
          "ternary": {
           "aaxis": {
            "gridcolor": "white",
            "linecolor": "white",
            "ticks": ""
           },
           "baxis": {
            "gridcolor": "white",
            "linecolor": "white",
            "ticks": ""
           },
           "bgcolor": "#E5ECF6",
           "caxis": {
            "gridcolor": "white",
            "linecolor": "white",
            "ticks": ""
           }
          },
          "title": {
           "x": 0.05
          },
          "xaxis": {
           "automargin": true,
           "gridcolor": "white",
           "linecolor": "white",
           "ticks": "",
           "title": {
            "standoff": 15
           },
           "zerolinecolor": "white",
           "zerolinewidth": 2
          },
          "yaxis": {
           "automargin": true,
           "gridcolor": "white",
           "linecolor": "white",
           "ticks": "",
           "title": {
            "standoff": 15
           },
           "zerolinecolor": "white",
           "zerolinewidth": 2
          }
         }
        },
        "xaxis": {
         "anchor": "y",
         "domain": [
          0,
          1
         ],
         "title": {
          "text": "game_id"
         }
        },
        "yaxis": {
         "anchor": "x",
         "domain": [
          0,
          1
         ],
         "title": {
          "text": "game_end_balance"
         }
        }
       }
      },
      "text/html": [
       "<div>\n",
       "        \n",
       "        \n",
       "            <div id=\"410dbbbc-2e5b-4ab4-bb88-ce5e4b3bdbd6\" class=\"plotly-graph-div\" style=\"height:525px; width:100%;\"></div>\n",
       "            <script type=\"text/javascript\">\n",
       "                require([\"plotly\"], function(Plotly) {\n",
       "                    window.PLOTLYENV=window.PLOTLYENV || {};\n",
       "                    \n",
       "                if (document.getElementById(\"410dbbbc-2e5b-4ab4-bb88-ce5e4b3bdbd6\")) {\n",
       "                    Plotly.newPlot(\n",
       "                        '410dbbbc-2e5b-4ab4-bb88-ce5e4b3bdbd6',\n",
       "                        [{\"hoverlabel\": {\"namelength\": 0}, \"hovertemplate\": \"player_name=players_1<br>game_id=%{x}<br>game_end_balance=%{y}\", \"legendgroup\": \"player_name=players_1\", \"line\": {\"color\": \"#636efa\", \"dash\": \"solid\"}, \"mode\": \"lines\", \"name\": \"player_name=players_1\", \"showlegend\": true, \"type\": \"scatter\", \"x\": [1000001, 1000002, 1000003, 1000004, 1000005, 1000006, 1000007, 1000008, 1000009, 1000010], \"xaxis\": \"x\", \"y\": [100170.0, 100260.0, 100090.0, 100180.0, 100010.0, 99920.0, 100090.0, 100180.0, 100010.0, 100100.0], \"yaxis\": \"y\"}, {\"hoverlabel\": {\"namelength\": 0}, \"hovertemplate\": \"player_name=players_2<br>game_id=%{x}<br>game_end_balance=%{y}\", \"legendgroup\": \"player_name=players_2\", \"line\": {\"color\": \"#EF553B\", \"dash\": \"solid\"}, \"mode\": \"lines\", \"name\": \"player_name=players_2\", \"showlegend\": true, \"type\": \"scatter\", \"x\": [1000001, 1000002, 1000003, 1000004, 1000005, 1000006, 1000007, 1000008, 1000009, 1000010], \"xaxis\": \"x\", \"y\": [99830.0, 99740.0, 99910.0, 99820.0, 99990.0, 100080.0, 99910.0, 99820.0, 99990.0, 99900.0], \"yaxis\": \"y\"}],\n",
       "                        {\"legend\": {\"tracegroupgap\": 0}, \"margin\": {\"t\": 60}, \"template\": {\"data\": {\"bar\": [{\"error_x\": {\"color\": \"#2a3f5f\"}, \"error_y\": {\"color\": \"#2a3f5f\"}, \"marker\": {\"line\": {\"color\": \"#E5ECF6\", \"width\": 0.5}}, \"type\": \"bar\"}], \"barpolar\": [{\"marker\": {\"line\": {\"color\": \"#E5ECF6\", \"width\": 0.5}}, \"type\": \"barpolar\"}], \"carpet\": [{\"aaxis\": {\"endlinecolor\": \"#2a3f5f\", \"gridcolor\": \"white\", \"linecolor\": \"white\", \"minorgridcolor\": \"white\", \"startlinecolor\": \"#2a3f5f\"}, \"baxis\": {\"endlinecolor\": \"#2a3f5f\", \"gridcolor\": \"white\", \"linecolor\": \"white\", \"minorgridcolor\": \"white\", \"startlinecolor\": \"#2a3f5f\"}, \"type\": \"carpet\"}], \"choropleth\": [{\"colorbar\": {\"outlinewidth\": 0, \"ticks\": \"\"}, \"type\": \"choropleth\"}], \"contour\": [{\"colorbar\": {\"outlinewidth\": 0, \"ticks\": \"\"}, \"colorscale\": [[0.0, \"#0d0887\"], [0.1111111111111111, \"#46039f\"], [0.2222222222222222, \"#7201a8\"], [0.3333333333333333, \"#9c179e\"], [0.4444444444444444, \"#bd3786\"], [0.5555555555555556, \"#d8576b\"], [0.6666666666666666, \"#ed7953\"], [0.7777777777777778, \"#fb9f3a\"], [0.8888888888888888, \"#fdca26\"], [1.0, \"#f0f921\"]], \"type\": \"contour\"}], \"contourcarpet\": [{\"colorbar\": {\"outlinewidth\": 0, \"ticks\": \"\"}, \"type\": \"contourcarpet\"}], \"heatmap\": [{\"colorbar\": {\"outlinewidth\": 0, \"ticks\": \"\"}, \"colorscale\": [[0.0, \"#0d0887\"], [0.1111111111111111, \"#46039f\"], [0.2222222222222222, \"#7201a8\"], [0.3333333333333333, \"#9c179e\"], [0.4444444444444444, \"#bd3786\"], [0.5555555555555556, \"#d8576b\"], [0.6666666666666666, \"#ed7953\"], [0.7777777777777778, \"#fb9f3a\"], [0.8888888888888888, \"#fdca26\"], [1.0, \"#f0f921\"]], \"type\": \"heatmap\"}], \"heatmapgl\": [{\"colorbar\": {\"outlinewidth\": 0, \"ticks\": \"\"}, \"colorscale\": [[0.0, \"#0d0887\"], [0.1111111111111111, \"#46039f\"], [0.2222222222222222, \"#7201a8\"], [0.3333333333333333, \"#9c179e\"], [0.4444444444444444, \"#bd3786\"], [0.5555555555555556, \"#d8576b\"], [0.6666666666666666, \"#ed7953\"], [0.7777777777777778, \"#fb9f3a\"], [0.8888888888888888, \"#fdca26\"], [1.0, \"#f0f921\"]], \"type\": \"heatmapgl\"}], \"histogram\": [{\"marker\": {\"colorbar\": {\"outlinewidth\": 0, \"ticks\": \"\"}}, \"type\": \"histogram\"}], \"histogram2d\": [{\"colorbar\": {\"outlinewidth\": 0, \"ticks\": \"\"}, \"colorscale\": [[0.0, \"#0d0887\"], [0.1111111111111111, \"#46039f\"], [0.2222222222222222, \"#7201a8\"], [0.3333333333333333, \"#9c179e\"], [0.4444444444444444, \"#bd3786\"], [0.5555555555555556, \"#d8576b\"], [0.6666666666666666, \"#ed7953\"], [0.7777777777777778, \"#fb9f3a\"], [0.8888888888888888, \"#fdca26\"], [1.0, \"#f0f921\"]], \"type\": \"histogram2d\"}], \"histogram2dcontour\": [{\"colorbar\": {\"outlinewidth\": 0, \"ticks\": \"\"}, \"colorscale\": [[0.0, \"#0d0887\"], [0.1111111111111111, \"#46039f\"], [0.2222222222222222, \"#7201a8\"], [0.3333333333333333, \"#9c179e\"], [0.4444444444444444, \"#bd3786\"], [0.5555555555555556, \"#d8576b\"], [0.6666666666666666, \"#ed7953\"], [0.7777777777777778, \"#fb9f3a\"], [0.8888888888888888, \"#fdca26\"], [1.0, \"#f0f921\"]], \"type\": \"histogram2dcontour\"}], \"mesh3d\": [{\"colorbar\": {\"outlinewidth\": 0, \"ticks\": \"\"}, \"type\": \"mesh3d\"}], \"parcoords\": [{\"line\": {\"colorbar\": {\"outlinewidth\": 0, \"ticks\": \"\"}}, \"type\": \"parcoords\"}], \"pie\": [{\"automargin\": true, \"type\": \"pie\"}], \"scatter\": [{\"marker\": {\"colorbar\": {\"outlinewidth\": 0, \"ticks\": \"\"}}, \"type\": \"scatter\"}], \"scatter3d\": [{\"line\": {\"colorbar\": {\"outlinewidth\": 0, \"ticks\": \"\"}}, \"marker\": {\"colorbar\": {\"outlinewidth\": 0, \"ticks\": \"\"}}, \"type\": \"scatter3d\"}], \"scattercarpet\": [{\"marker\": {\"colorbar\": {\"outlinewidth\": 0, \"ticks\": \"\"}}, \"type\": \"scattercarpet\"}], \"scattergeo\": [{\"marker\": {\"colorbar\": {\"outlinewidth\": 0, \"ticks\": \"\"}}, \"type\": \"scattergeo\"}], \"scattergl\": [{\"marker\": {\"colorbar\": {\"outlinewidth\": 0, \"ticks\": \"\"}}, \"type\": \"scattergl\"}], \"scattermapbox\": [{\"marker\": {\"colorbar\": {\"outlinewidth\": 0, \"ticks\": \"\"}}, \"type\": \"scattermapbox\"}], \"scatterpolar\": [{\"marker\": {\"colorbar\": {\"outlinewidth\": 0, \"ticks\": \"\"}}, \"type\": \"scatterpolar\"}], \"scatterpolargl\": [{\"marker\": {\"colorbar\": {\"outlinewidth\": 0, \"ticks\": \"\"}}, \"type\": \"scatterpolargl\"}], \"scatterternary\": [{\"marker\": {\"colorbar\": {\"outlinewidth\": 0, \"ticks\": \"\"}}, \"type\": \"scatterternary\"}], \"surface\": [{\"colorbar\": {\"outlinewidth\": 0, \"ticks\": \"\"}, \"colorscale\": [[0.0, \"#0d0887\"], [0.1111111111111111, \"#46039f\"], [0.2222222222222222, \"#7201a8\"], [0.3333333333333333, \"#9c179e\"], [0.4444444444444444, \"#bd3786\"], [0.5555555555555556, \"#d8576b\"], [0.6666666666666666, \"#ed7953\"], [0.7777777777777778, \"#fb9f3a\"], [0.8888888888888888, \"#fdca26\"], [1.0, \"#f0f921\"]], \"type\": \"surface\"}], \"table\": [{\"cells\": {\"fill\": {\"color\": \"#EBF0F8\"}, \"line\": {\"color\": \"white\"}}, \"header\": {\"fill\": {\"color\": \"#C8D4E3\"}, \"line\": {\"color\": \"white\"}}, \"type\": \"table\"}]}, \"layout\": {\"annotationdefaults\": {\"arrowcolor\": \"#2a3f5f\", \"arrowhead\": 0, \"arrowwidth\": 1}, \"coloraxis\": {\"colorbar\": {\"outlinewidth\": 0, \"ticks\": \"\"}}, \"colorscale\": {\"diverging\": [[0, \"#8e0152\"], [0.1, \"#c51b7d\"], [0.2, \"#de77ae\"], [0.3, \"#f1b6da\"], [0.4, \"#fde0ef\"], [0.5, \"#f7f7f7\"], [0.6, \"#e6f5d0\"], [0.7, \"#b8e186\"], [0.8, \"#7fbc41\"], [0.9, \"#4d9221\"], [1, \"#276419\"]], \"sequential\": [[0.0, \"#0d0887\"], [0.1111111111111111, \"#46039f\"], [0.2222222222222222, \"#7201a8\"], [0.3333333333333333, \"#9c179e\"], [0.4444444444444444, \"#bd3786\"], [0.5555555555555556, \"#d8576b\"], [0.6666666666666666, \"#ed7953\"], [0.7777777777777778, \"#fb9f3a\"], [0.8888888888888888, \"#fdca26\"], [1.0, \"#f0f921\"]], \"sequentialminus\": [[0.0, \"#0d0887\"], [0.1111111111111111, \"#46039f\"], [0.2222222222222222, \"#7201a8\"], [0.3333333333333333, \"#9c179e\"], [0.4444444444444444, \"#bd3786\"], [0.5555555555555556, \"#d8576b\"], [0.6666666666666666, \"#ed7953\"], [0.7777777777777778, \"#fb9f3a\"], [0.8888888888888888, \"#fdca26\"], [1.0, \"#f0f921\"]]}, \"colorway\": [\"#636efa\", \"#EF553B\", \"#00cc96\", \"#ab63fa\", \"#FFA15A\", \"#19d3f3\", \"#FF6692\", \"#B6E880\", \"#FF97FF\", \"#FECB52\"], \"font\": {\"color\": \"#2a3f5f\"}, \"geo\": {\"bgcolor\": \"white\", \"lakecolor\": \"white\", \"landcolor\": \"#E5ECF6\", \"showlakes\": true, \"showland\": true, \"subunitcolor\": \"white\"}, \"hoverlabel\": {\"align\": \"left\"}, \"hovermode\": \"closest\", \"mapbox\": {\"style\": \"light\"}, \"paper_bgcolor\": \"white\", \"plot_bgcolor\": \"#E5ECF6\", \"polar\": {\"angularaxis\": {\"gridcolor\": \"white\", \"linecolor\": \"white\", \"ticks\": \"\"}, \"bgcolor\": \"#E5ECF6\", \"radialaxis\": {\"gridcolor\": \"white\", \"linecolor\": \"white\", \"ticks\": \"\"}}, \"scene\": {\"xaxis\": {\"backgroundcolor\": \"#E5ECF6\", \"gridcolor\": \"white\", \"gridwidth\": 2, \"linecolor\": \"white\", \"showbackground\": true, \"ticks\": \"\", \"zerolinecolor\": \"white\"}, \"yaxis\": {\"backgroundcolor\": \"#E5ECF6\", \"gridcolor\": \"white\", \"gridwidth\": 2, \"linecolor\": \"white\", \"showbackground\": true, \"ticks\": \"\", \"zerolinecolor\": \"white\"}, \"zaxis\": {\"backgroundcolor\": \"#E5ECF6\", \"gridcolor\": \"white\", \"gridwidth\": 2, \"linecolor\": \"white\", \"showbackground\": true, \"ticks\": \"\", \"zerolinecolor\": \"white\"}}, \"shapedefaults\": {\"line\": {\"color\": \"#2a3f5f\"}}, \"ternary\": {\"aaxis\": {\"gridcolor\": \"white\", \"linecolor\": \"white\", \"ticks\": \"\"}, \"baxis\": {\"gridcolor\": \"white\", \"linecolor\": \"white\", \"ticks\": \"\"}, \"bgcolor\": \"#E5ECF6\", \"caxis\": {\"gridcolor\": \"white\", \"linecolor\": \"white\", \"ticks\": \"\"}}, \"title\": {\"x\": 0.05}, \"xaxis\": {\"automargin\": true, \"gridcolor\": \"white\", \"linecolor\": \"white\", \"ticks\": \"\", \"title\": {\"standoff\": 15}, \"zerolinecolor\": \"white\", \"zerolinewidth\": 2}, \"yaxis\": {\"automargin\": true, \"gridcolor\": \"white\", \"linecolor\": \"white\", \"ticks\": \"\", \"title\": {\"standoff\": 15}, \"zerolinecolor\": \"white\", \"zerolinewidth\": 2}}}, \"xaxis\": {\"anchor\": \"y\", \"domain\": [0.0, 1.0], \"title\": {\"text\": \"game_id\"}}, \"yaxis\": {\"anchor\": \"x\", \"domain\": [0.0, 1.0], \"title\": {\"text\": \"game_end_balance\"}}},\n",
       "                        {\"responsive\": true}\n",
       "                    ).then(function(){\n",
       "                            \n",
       "var gd = document.getElementById('410dbbbc-2e5b-4ab4-bb88-ce5e4b3bdbd6');\n",
       "var x = new MutationObserver(function (mutations, observer) {{\n",
       "        var display = window.getComputedStyle(gd).display;\n",
       "        if (!display || display === 'none') {{\n",
       "            console.log([gd, 'removed!']);\n",
       "            Plotly.purge(gd);\n",
       "            observer.disconnect();\n",
       "        }}\n",
       "}});\n",
       "\n",
       "// Listen for the removal of the full notebook cells\n",
       "var notebookContainer = gd.closest('#notebook-container');\n",
       "if (notebookContainer) {{\n",
       "    x.observe(notebookContainer, {childList: true});\n",
       "}}\n",
       "\n",
       "// Listen for the clearing of the current output cell\n",
       "var outputEl = gd.closest('.output');\n",
       "if (outputEl) {{\n",
       "    x.observe(outputEl, {childList: true});\n",
       "}}\n",
       "\n",
       "                        })\n",
       "                };\n",
       "                });\n",
       "            </script>\n",
       "        </div>"
      ]
     },
     "metadata": {},
     "output_type": "display_data"
    }
   ],
   "source": [
    "px.line(games[games['table_id']==1],x='game_id',y='game_end_balance',color='player_name')"
   ]
  },
  {
   "cell_type": "code",
   "execution_count": 135,
   "metadata": {
    "ExecuteTime": {
     "end_time": "2021-03-12T18:20:22.868170Z",
     "start_time": "2021-03-12T18:20:22.833195Z"
    }
   },
   "outputs": [
    {
     "data": {
      "text/html": [
       "<div>\n",
       "<style scoped>\n",
       "    .dataframe tbody tr th:only-of-type {\n",
       "        vertical-align: middle;\n",
       "    }\n",
       "\n",
       "    .dataframe tbody tr th {\n",
       "        vertical-align: top;\n",
       "    }\n",
       "\n",
       "    .dataframe thead th {\n",
       "        text-align: right;\n",
       "    }\n",
       "</style>\n",
       "<table border=\"1\" class=\"dataframe\">\n",
       "  <thead>\n",
       "    <tr style=\"text-align: right;\">\n",
       "      <th></th>\n",
       "      <th>player_type</th>\n",
       "      <th>game_net_change</th>\n",
       "    </tr>\n",
       "  </thead>\n",
       "  <tbody>\n",
       "    <tr>\n",
       "      <th>0</th>\n",
       "      <td>AlwaysCallPlayer</td>\n",
       "      <td>-26086.765156</td>\n",
       "    </tr>\n",
       "    <tr>\n",
       "      <th>1</th>\n",
       "      <td>AlwaysRaisePlayer</td>\n",
       "      <td>-23098.920711</td>\n",
       "    </tr>\n",
       "    <tr>\n",
       "      <th>2</th>\n",
       "      <td>CalculatedPlayer</td>\n",
       "      <td>-2699.278889</td>\n",
       "    </tr>\n",
       "    <tr>\n",
       "      <th>4</th>\n",
       "      <td>GambleByProbabilityPlayer</td>\n",
       "      <td>5285.166667</td>\n",
       "    </tr>\n",
       "    <tr>\n",
       "      <th>5</th>\n",
       "      <td>SmartPlayer</td>\n",
       "      <td>5300.398311</td>\n",
       "    </tr>\n",
       "    <tr>\n",
       "      <th>3</th>\n",
       "      <td>ConservativePlayer</td>\n",
       "      <td>41299.399778</td>\n",
       "    </tr>\n",
       "  </tbody>\n",
       "</table>\n",
       "</div>"
      ],
      "text/plain": [
       "                 player_type  game_net_change\n",
       "0           AlwaysCallPlayer    -26086.765156\n",
       "1          AlwaysRaisePlayer    -23098.920711\n",
       "2           CalculatedPlayer     -2699.278889\n",
       "4  GambleByProbabilityPlayer      5285.166667\n",
       "5                SmartPlayer      5300.398311\n",
       "3         ConservativePlayer     41299.399778"
      ]
     },
     "execution_count": 135,
     "metadata": {},
     "output_type": "execute_result"
    }
   ],
   "source": [
    "gain_loss_playerType=games.groupby(['table_id','player_type'])['game_net_change'].sum().reset_index()\n",
    "gain_loss_playerType.groupby('player_type')['game_net_change'].mean().reset_index().sort_values(by='game_net_change')"
   ]
  },
  {
   "cell_type": "code",
   "execution_count": 148,
   "metadata": {
    "ExecuteTime": {
     "end_time": "2021-03-12T19:02:07.316278Z",
     "start_time": "2021-03-12T19:02:07.283290Z"
    }
   },
   "outputs": [
    {
     "data": {
      "text/html": [
       "<div>\n",
       "<style scoped>\n",
       "    .dataframe tbody tr th:only-of-type {\n",
       "        vertical-align: middle;\n",
       "    }\n",
       "\n",
       "    .dataframe tbody tr th {\n",
       "        vertical-align: top;\n",
       "    }\n",
       "\n",
       "    .dataframe thead th {\n",
       "        text-align: right;\n",
       "    }\n",
       "</style>\n",
       "<table border=\"1\" class=\"dataframe\">\n",
       "  <thead>\n",
       "    <tr style=\"text-align: right;\">\n",
       "      <th></th>\n",
       "      <th>player_type</th>\n",
       "      <th>game_result</th>\n",
       "      <th>blind_type</th>\n",
       "    </tr>\n",
       "  </thead>\n",
       "  <tbody>\n",
       "    <tr>\n",
       "      <th>3</th>\n",
       "      <td>ConservativePlayer</td>\n",
       "      <td>won</td>\n",
       "      <td>34</td>\n",
       "    </tr>\n",
       "    <tr>\n",
       "      <th>2</th>\n",
       "      <td>CalculatedPlayer</td>\n",
       "      <td>won</td>\n",
       "      <td>263</td>\n",
       "    </tr>\n",
       "    <tr>\n",
       "      <th>4</th>\n",
       "      <td>GambleByProbabilityPlayer</td>\n",
       "      <td>won</td>\n",
       "      <td>263</td>\n",
       "    </tr>\n",
       "    <tr>\n",
       "      <th>5</th>\n",
       "      <td>SmartPlayer</td>\n",
       "      <td>won</td>\n",
       "      <td>610</td>\n",
       "    </tr>\n",
       "    <tr>\n",
       "      <th>1</th>\n",
       "      <td>AlwaysRaisePlayer</td>\n",
       "      <td>won</td>\n",
       "      <td>978</td>\n",
       "    </tr>\n",
       "    <tr>\n",
       "      <th>0</th>\n",
       "      <td>AlwaysCallPlayer</td>\n",
       "      <td>won</td>\n",
       "      <td>995</td>\n",
       "    </tr>\n",
       "  </tbody>\n",
       "</table>\n",
       "</div>"
      ],
      "text/plain": [
       "                 player_type game_result  blind_type\n",
       "3         ConservativePlayer         won          34\n",
       "2           CalculatedPlayer         won         263\n",
       "4  GambleByProbabilityPlayer         won         263\n",
       "5                SmartPlayer         won         610\n",
       "1          AlwaysRaisePlayer         won         978\n",
       "0           AlwaysCallPlayer         won         995"
      ]
     },
     "execution_count": 148,
     "metadata": {},
     "output_type": "execute_result"
    }
   ],
   "source": [
    "games[games['game_result']=='won'].groupby(['player_type','game_result'])['blind_type'].count().reset_index().sort_values(by='blind_type')"
   ]
  },
  {
   "cell_type": "code",
   "execution_count": 6,
   "metadata": {},
   "outputs": [
    {
     "data": {
      "text/html": [
       "<div>\n",
       "<style scoped>\n",
       "    .dataframe tbody tr th:only-of-type {\n",
       "        vertical-align: middle;\n",
       "    }\n",
       "\n",
       "    .dataframe tbody tr th {\n",
       "        vertical-align: top;\n",
       "    }\n",
       "\n",
       "    .dataframe thead th {\n",
       "        text-align: right;\n",
       "    }\n",
       "</style>\n",
       "<table border=\"1\" class=\"dataframe\">\n",
       "  <thead>\n",
       "    <tr style=\"text-align: right;\">\n",
       "      <th></th>\n",
       "      <th>table_id</th>\n",
       "      <th>game_id</th>\n",
       "      <th>player_name</th>\n",
       "      <th>player_type</th>\n",
       "      <th>bet_number</th>\n",
       "      <th>opponents</th>\n",
       "      <th>call</th>\n",
       "      <th>current</th>\n",
       "      <th>final</th>\n",
       "      <th>pot</th>\n",
       "      <th>allowed</th>\n",
       "      <th>hand1</th>\n",
       "      <th>hand2</th>\n",
       "      <th>community1</th>\n",
       "      <th>community2</th>\n",
       "      <th>community3</th>\n",
       "      <th>community4</th>\n",
       "      <th>community5</th>\n",
       "      <th>game_result</th>\n",
       "      <th>game_reason</th>\n",
       "      <th>blind_type</th>\n",
       "      <th>beginning_balance</th>\n",
       "      <th>game_start_balance</th>\n",
       "      <th>game_end_balance</th>\n",
       "      <th>game_net_change</th>\n",
       "      <th>scenario_name</th>\n",
       "      <th>player_types</th>\n",
       "    </tr>\n",
       "  </thead>\n",
       "  <tbody>\n",
       "    <tr>\n",
       "      <th>0</th>\n",
       "      <td>1</td>\n",
       "      <td>1</td>\n",
       "      <td>players_3</td>\n",
       "      <td>AlwaysCallPlayer</td>\n",
       "      <td>1</td>\n",
       "      <td>5</td>\n",
       "      <td>10</td>\n",
       "      <td>0</td>\n",
       "      <td>10.0</td>\n",
       "      <td>35</td>\n",
       "      <td>True</td>\n",
       "      <td>9-clubs</td>\n",
       "      <td>K-hearts</td>\n",
       "      <td>Z-N/A</td>\n",
       "      <td>Z-N/A</td>\n",
       "      <td>Z-N/A</td>\n",
       "      <td>Z-N/A</td>\n",
       "      <td>Z-N/A</td>\n",
       "      <td>won</td>\n",
       "      <td>won_game</td>\n",
       "      <td>None</td>\n",
       "      <td>100000</td>\n",
       "      <td>100000</td>\n",
       "      <td>100000</td>\n",
       "      <td>0</td>\n",
       "      <td>all_call_against_smart_player</td>\n",
       "      <td>AlwaysCallPlayer|AlwaysCallPlayer|AlwaysCallPl...</td>\n",
       "    </tr>\n",
       "    <tr>\n",
       "      <th>1</th>\n",
       "      <td>1</td>\n",
       "      <td>1</td>\n",
       "      <td>players_3</td>\n",
       "      <td>AlwaysCallPlayer</td>\n",
       "      <td>2</td>\n",
       "      <td>5</td>\n",
       "      <td>10</td>\n",
       "      <td>10</td>\n",
       "      <td>20.0</td>\n",
       "      <td>90</td>\n",
       "      <td>True</td>\n",
       "      <td>9-clubs</td>\n",
       "      <td>K-hearts</td>\n",
       "      <td>Z-N/A</td>\n",
       "      <td>Z-N/A</td>\n",
       "      <td>Z-N/A</td>\n",
       "      <td>Z-N/A</td>\n",
       "      <td>Z-N/A</td>\n",
       "      <td>won</td>\n",
       "      <td>won_game</td>\n",
       "      <td>None</td>\n",
       "      <td>100000</td>\n",
       "      <td>100000</td>\n",
       "      <td>100000</td>\n",
       "      <td>0</td>\n",
       "      <td>all_call_against_smart_player</td>\n",
       "      <td>AlwaysCallPlayer|AlwaysCallPlayer|AlwaysCallPl...</td>\n",
       "    </tr>\n",
       "    <tr>\n",
       "      <th>2</th>\n",
       "      <td>1</td>\n",
       "      <td>1</td>\n",
       "      <td>players_3</td>\n",
       "      <td>AlwaysCallPlayer</td>\n",
       "      <td>3</td>\n",
       "      <td>5</td>\n",
       "      <td>10</td>\n",
       "      <td>20</td>\n",
       "      <td>30.0</td>\n",
       "      <td>150</td>\n",
       "      <td>False</td>\n",
       "      <td>9-clubs</td>\n",
       "      <td>K-hearts</td>\n",
       "      <td>Z-N/A</td>\n",
       "      <td>Z-N/A</td>\n",
       "      <td>Z-N/A</td>\n",
       "      <td>Z-N/A</td>\n",
       "      <td>Z-N/A</td>\n",
       "      <td>won</td>\n",
       "      <td>won_game</td>\n",
       "      <td>None</td>\n",
       "      <td>100000</td>\n",
       "      <td>100000</td>\n",
       "      <td>100000</td>\n",
       "      <td>0</td>\n",
       "      <td>all_call_against_smart_player</td>\n",
       "      <td>AlwaysCallPlayer|AlwaysCallPlayer|AlwaysCallPl...</td>\n",
       "    </tr>\n",
       "    <tr>\n",
       "      <th>3</th>\n",
       "      <td>1</td>\n",
       "      <td>1</td>\n",
       "      <td>players_3</td>\n",
       "      <td>AlwaysCallPlayer</td>\n",
       "      <td>4</td>\n",
       "      <td>5</td>\n",
       "      <td>0</td>\n",
       "      <td>30</td>\n",
       "      <td>30.0</td>\n",
       "      <td>180</td>\n",
       "      <td>True</td>\n",
       "      <td>9-clubs</td>\n",
       "      <td>K-hearts</td>\n",
       "      <td>3-clubs</td>\n",
       "      <td>8-spades</td>\n",
       "      <td>J-diamonds</td>\n",
       "      <td>Z-N/A</td>\n",
       "      <td>Z-N/A</td>\n",
       "      <td>won</td>\n",
       "      <td>won_game</td>\n",
       "      <td>None</td>\n",
       "      <td>100000</td>\n",
       "      <td>100000</td>\n",
       "      <td>100000</td>\n",
       "      <td>0</td>\n",
       "      <td>all_call_against_smart_player</td>\n",
       "      <td>AlwaysCallPlayer|AlwaysCallPlayer|AlwaysCallPl...</td>\n",
       "    </tr>\n",
       "    <tr>\n",
       "      <th>4</th>\n",
       "      <td>1</td>\n",
       "      <td>1</td>\n",
       "      <td>players_3</td>\n",
       "      <td>AlwaysCallPlayer</td>\n",
       "      <td>5</td>\n",
       "      <td>5</td>\n",
       "      <td>10</td>\n",
       "      <td>30</td>\n",
       "      <td>40.0</td>\n",
       "      <td>210</td>\n",
       "      <td>True</td>\n",
       "      <td>9-clubs</td>\n",
       "      <td>K-hearts</td>\n",
       "      <td>3-clubs</td>\n",
       "      <td>4-clubs</td>\n",
       "      <td>8-spades</td>\n",
       "      <td>J-diamonds</td>\n",
       "      <td>Z-N/A</td>\n",
       "      <td>won</td>\n",
       "      <td>won_game</td>\n",
       "      <td>None</td>\n",
       "      <td>100000</td>\n",
       "      <td>100000</td>\n",
       "      <td>100000</td>\n",
       "      <td>0</td>\n",
       "      <td>all_call_against_smart_player</td>\n",
       "      <td>AlwaysCallPlayer|AlwaysCallPlayer|AlwaysCallPl...</td>\n",
       "    </tr>\n",
       "    <tr>\n",
       "      <th>...</th>\n",
       "      <td>...</td>\n",
       "      <td>...</td>\n",
       "      <td>...</td>\n",
       "      <td>...</td>\n",
       "      <td>...</td>\n",
       "      <td>...</td>\n",
       "      <td>...</td>\n",
       "      <td>...</td>\n",
       "      <td>...</td>\n",
       "      <td>...</td>\n",
       "      <td>...</td>\n",
       "      <td>...</td>\n",
       "      <td>...</td>\n",
       "      <td>...</td>\n",
       "      <td>...</td>\n",
       "      <td>...</td>\n",
       "      <td>...</td>\n",
       "      <td>...</td>\n",
       "      <td>...</td>\n",
       "      <td>...</td>\n",
       "      <td>...</td>\n",
       "      <td>...</td>\n",
       "      <td>...</td>\n",
       "      <td>...</td>\n",
       "      <td>...</td>\n",
       "      <td>...</td>\n",
       "      <td>...</td>\n",
       "    </tr>\n",
       "    <tr>\n",
       "      <th>203548</th>\n",
       "      <td>9</td>\n",
       "      <td>900</td>\n",
       "      <td>players_2</td>\n",
       "      <td>AlwaysCallPlayer</td>\n",
       "      <td>1</td>\n",
       "      <td>5</td>\n",
       "      <td>5</td>\n",
       "      <td>5</td>\n",
       "      <td>10.0</td>\n",
       "      <td>55</td>\n",
       "      <td>True</td>\n",
       "      <td>10-spades</td>\n",
       "      <td>6-diamonds</td>\n",
       "      <td>Z-N/A</td>\n",
       "      <td>Z-N/A</td>\n",
       "      <td>Z-N/A</td>\n",
       "      <td>Z-N/A</td>\n",
       "      <td>Z-N/A</td>\n",
       "      <td>won</td>\n",
       "      <td>won_game</td>\n",
       "      <td>small</td>\n",
       "      <td>100000</td>\n",
       "      <td>100050</td>\n",
       "      <td>100050</td>\n",
       "      <td>0</td>\n",
       "      <td>all_call_against_smart_player</td>\n",
       "      <td>AlwaysCallPlayer|AlwaysCallPlayer|AlwaysCallPl...</td>\n",
       "    </tr>\n",
       "    <tr>\n",
       "      <th>203549</th>\n",
       "      <td>9</td>\n",
       "      <td>900</td>\n",
       "      <td>players_2</td>\n",
       "      <td>AlwaysCallPlayer</td>\n",
       "      <td>2</td>\n",
       "      <td>5</td>\n",
       "      <td>0</td>\n",
       "      <td>10</td>\n",
       "      <td>10.0</td>\n",
       "      <td>60</td>\n",
       "      <td>True</td>\n",
       "      <td>10-spades</td>\n",
       "      <td>6-diamonds</td>\n",
       "      <td>4-clubs</td>\n",
       "      <td>7-diamonds</td>\n",
       "      <td>Q-hearts</td>\n",
       "      <td>Z-N/A</td>\n",
       "      <td>Z-N/A</td>\n",
       "      <td>won</td>\n",
       "      <td>won_game</td>\n",
       "      <td>small</td>\n",
       "      <td>100000</td>\n",
       "      <td>100050</td>\n",
       "      <td>100050</td>\n",
       "      <td>0</td>\n",
       "      <td>all_call_against_smart_player</td>\n",
       "      <td>AlwaysCallPlayer|AlwaysCallPlayer|AlwaysCallPl...</td>\n",
       "    </tr>\n",
       "    <tr>\n",
       "      <th>203550</th>\n",
       "      <td>9</td>\n",
       "      <td>900</td>\n",
       "      <td>players_2</td>\n",
       "      <td>AlwaysCallPlayer</td>\n",
       "      <td>3</td>\n",
       "      <td>5</td>\n",
       "      <td>0</td>\n",
       "      <td>10</td>\n",
       "      <td>10.0</td>\n",
       "      <td>60</td>\n",
       "      <td>True</td>\n",
       "      <td>10-spades</td>\n",
       "      <td>6-diamonds</td>\n",
       "      <td>4-clubs</td>\n",
       "      <td>7-clubs</td>\n",
       "      <td>7-diamonds</td>\n",
       "      <td>Q-hearts</td>\n",
       "      <td>Z-N/A</td>\n",
       "      <td>won</td>\n",
       "      <td>won_game</td>\n",
       "      <td>small</td>\n",
       "      <td>100000</td>\n",
       "      <td>100050</td>\n",
       "      <td>100050</td>\n",
       "      <td>0</td>\n",
       "      <td>all_call_against_smart_player</td>\n",
       "      <td>AlwaysCallPlayer|AlwaysCallPlayer|AlwaysCallPl...</td>\n",
       "    </tr>\n",
       "    <tr>\n",
       "      <th>203551</th>\n",
       "      <td>9</td>\n",
       "      <td>900</td>\n",
       "      <td>players_2</td>\n",
       "      <td>AlwaysCallPlayer</td>\n",
       "      <td>4</td>\n",
       "      <td>5</td>\n",
       "      <td>10</td>\n",
       "      <td>10</td>\n",
       "      <td>20.0</td>\n",
       "      <td>80</td>\n",
       "      <td>True</td>\n",
       "      <td>10-spades</td>\n",
       "      <td>6-diamonds</td>\n",
       "      <td>4-clubs</td>\n",
       "      <td>7-clubs</td>\n",
       "      <td>7-diamonds</td>\n",
       "      <td>Q-hearts</td>\n",
       "      <td>Z-N/A</td>\n",
       "      <td>won</td>\n",
       "      <td>won_game</td>\n",
       "      <td>small</td>\n",
       "      <td>100000</td>\n",
       "      <td>100050</td>\n",
       "      <td>100050</td>\n",
       "      <td>0</td>\n",
       "      <td>all_call_against_smart_player</td>\n",
       "      <td>AlwaysCallPlayer|AlwaysCallPlayer|AlwaysCallPl...</td>\n",
       "    </tr>\n",
       "    <tr>\n",
       "      <th>203552</th>\n",
       "      <td>9</td>\n",
       "      <td>900</td>\n",
       "      <td>players_2</td>\n",
       "      <td>AlwaysCallPlayer</td>\n",
       "      <td>5</td>\n",
       "      <td>5</td>\n",
       "      <td>0</td>\n",
       "      <td>20</td>\n",
       "      <td>20.0</td>\n",
       "      <td>120</td>\n",
       "      <td>True</td>\n",
       "      <td>10-spades</td>\n",
       "      <td>6-diamonds</td>\n",
       "      <td>4-clubs</td>\n",
       "      <td>4-diamonds</td>\n",
       "      <td>7-clubs</td>\n",
       "      <td>7-diamonds</td>\n",
       "      <td>Q-hearts</td>\n",
       "      <td>won</td>\n",
       "      <td>won_game</td>\n",
       "      <td>small</td>\n",
       "      <td>100000</td>\n",
       "      <td>100050</td>\n",
       "      <td>100050</td>\n",
       "      <td>0</td>\n",
       "      <td>all_call_against_smart_player</td>\n",
       "      <td>AlwaysCallPlayer|AlwaysCallPlayer|AlwaysCallPl...</td>\n",
       "    </tr>\n",
       "  </tbody>\n",
       "</table>\n",
       "<p>203553 rows × 27 columns</p>\n",
       "</div>"
      ],
      "text/plain": [
       "        table_id  game_id player_name       player_type  bet_number  \\\n",
       "0              1        1   players_3  AlwaysCallPlayer           1   \n",
       "1              1        1   players_3  AlwaysCallPlayer           2   \n",
       "2              1        1   players_3  AlwaysCallPlayer           3   \n",
       "3              1        1   players_3  AlwaysCallPlayer           4   \n",
       "4              1        1   players_3  AlwaysCallPlayer           5   \n",
       "...          ...      ...         ...               ...         ...   \n",
       "203548         9      900   players_2  AlwaysCallPlayer           1   \n",
       "203549         9      900   players_2  AlwaysCallPlayer           2   \n",
       "203550         9      900   players_2  AlwaysCallPlayer           3   \n",
       "203551         9      900   players_2  AlwaysCallPlayer           4   \n",
       "203552         9      900   players_2  AlwaysCallPlayer           5   \n",
       "\n",
       "        opponents  call  current  final  pot  allowed      hand1       hand2  \\\n",
       "0               5    10        0   10.0   35     True    9-clubs    K-hearts   \n",
       "1               5    10       10   20.0   90     True    9-clubs    K-hearts   \n",
       "2               5    10       20   30.0  150    False    9-clubs    K-hearts   \n",
       "3               5     0       30   30.0  180     True    9-clubs    K-hearts   \n",
       "4               5    10       30   40.0  210     True    9-clubs    K-hearts   \n",
       "...           ...   ...      ...    ...  ...      ...        ...         ...   \n",
       "203548          5     5        5   10.0   55     True  10-spades  6-diamonds   \n",
       "203549          5     0       10   10.0   60     True  10-spades  6-diamonds   \n",
       "203550          5     0       10   10.0   60     True  10-spades  6-diamonds   \n",
       "203551          5    10       10   20.0   80     True  10-spades  6-diamonds   \n",
       "203552          5     0       20   20.0  120     True  10-spades  6-diamonds   \n",
       "\n",
       "       community1  community2  community3  community4 community5 game_result  \\\n",
       "0           Z-N/A       Z-N/A       Z-N/A       Z-N/A      Z-N/A         won   \n",
       "1           Z-N/A       Z-N/A       Z-N/A       Z-N/A      Z-N/A         won   \n",
       "2           Z-N/A       Z-N/A       Z-N/A       Z-N/A      Z-N/A         won   \n",
       "3         3-clubs    8-spades  J-diamonds       Z-N/A      Z-N/A         won   \n",
       "4         3-clubs     4-clubs    8-spades  J-diamonds      Z-N/A         won   \n",
       "...           ...         ...         ...         ...        ...         ...   \n",
       "203548      Z-N/A       Z-N/A       Z-N/A       Z-N/A      Z-N/A         won   \n",
       "203549    4-clubs  7-diamonds    Q-hearts       Z-N/A      Z-N/A         won   \n",
       "203550    4-clubs     7-clubs  7-diamonds    Q-hearts      Z-N/A         won   \n",
       "203551    4-clubs     7-clubs  7-diamonds    Q-hearts      Z-N/A         won   \n",
       "203552    4-clubs  4-diamonds     7-clubs  7-diamonds   Q-hearts         won   \n",
       "\n",
       "       game_reason blind_type  beginning_balance  game_start_balance  \\\n",
       "0         won_game       None             100000              100000   \n",
       "1         won_game       None             100000              100000   \n",
       "2         won_game       None             100000              100000   \n",
       "3         won_game       None             100000              100000   \n",
       "4         won_game       None             100000              100000   \n",
       "...            ...        ...                ...                 ...   \n",
       "203548    won_game      small             100000              100050   \n",
       "203549    won_game      small             100000              100050   \n",
       "203550    won_game      small             100000              100050   \n",
       "203551    won_game      small             100000              100050   \n",
       "203552    won_game      small             100000              100050   \n",
       "\n",
       "        game_end_balance  game_net_change                  scenario_name  \\\n",
       "0                 100000                0  all_call_against_smart_player   \n",
       "1                 100000                0  all_call_against_smart_player   \n",
       "2                 100000                0  all_call_against_smart_player   \n",
       "3                 100000                0  all_call_against_smart_player   \n",
       "4                 100000                0  all_call_against_smart_player   \n",
       "...                  ...              ...                            ...   \n",
       "203548            100050                0  all_call_against_smart_player   \n",
       "203549            100050                0  all_call_against_smart_player   \n",
       "203550            100050                0  all_call_against_smart_player   \n",
       "203551            100050                0  all_call_against_smart_player   \n",
       "203552            100050                0  all_call_against_smart_player   \n",
       "\n",
       "                                             player_types  \n",
       "0       AlwaysCallPlayer|AlwaysCallPlayer|AlwaysCallPl...  \n",
       "1       AlwaysCallPlayer|AlwaysCallPlayer|AlwaysCallPl...  \n",
       "2       AlwaysCallPlayer|AlwaysCallPlayer|AlwaysCallPl...  \n",
       "3       AlwaysCallPlayer|AlwaysCallPlayer|AlwaysCallPl...  \n",
       "4       AlwaysCallPlayer|AlwaysCallPlayer|AlwaysCallPl...  \n",
       "...                                                   ...  \n",
       "203548  AlwaysCallPlayer|AlwaysCallPlayer|AlwaysCallPl...  \n",
       "203549  AlwaysCallPlayer|AlwaysCallPlayer|AlwaysCallPl...  \n",
       "203550  AlwaysCallPlayer|AlwaysCallPlayer|AlwaysCallPl...  \n",
       "203551  AlwaysCallPlayer|AlwaysCallPlayer|AlwaysCallPl...  \n",
       "203552  AlwaysCallPlayer|AlwaysCallPlayer|AlwaysCallPl...  \n",
       "\n",
       "[203553 rows x 27 columns]"
      ]
     },
     "execution_count": 6,
     "metadata": {},
     "output_type": "execute_result"
    }
   ],
   "source": [
    "hands"
   ]
  },
  {
   "cell_type": "markdown",
   "metadata": {},
   "source": [
    "# Basic Game Statistics"
   ]
  },
  {
   "cell_type": "markdown",
   "metadata": {},
   "source": [
    "Number of Games played in the simulation"
   ]
  },
  {
   "cell_type": "code",
   "execution_count": 7,
   "metadata": {},
   "outputs": [],
   "source": [
    "games = games[games['scenario_name'] == 'all_raise_against_smart_player']"
   ]
  },
  {
   "cell_type": "code",
   "execution_count": 8,
   "metadata": {},
   "outputs": [
    {
     "data": {
      "text/plain": [
       "2500"
      ]
     },
     "execution_count": 8,
     "metadata": {},
     "output_type": "execute_result"
    }
   ],
   "source": [
    "number_of_games = len(set(games.game_id))\n",
    "number_of_games"
   ]
  },
  {
   "cell_type": "markdown",
   "metadata": {},
   "source": [
    "Players Mean number of chips gained and variance"
   ]
  },
  {
   "cell_type": "code",
   "execution_count": 9,
   "metadata": {},
   "outputs": [
    {
     "name": "stderr",
     "output_type": "stream",
     "text": [
      "c:\\users\\silbe\\appdata\\local\\programs\\python\\python37-32\\lib\\site-packages\\ipykernel_launcher.py:3: SettingWithCopyWarning: \n",
      "A value is trying to be set on a copy of a slice from a DataFrame.\n",
      "Try using .loc[row_indexer,col_indexer] = value instead\n",
      "\n",
      "See the caveats in the documentation: https://pandas.pydata.org/pandas-docs/stable/user_guide/indexing.html#returning-a-view-versus-a-copy\n",
      "  This is separate from the ipykernel package so we can avoid doing imports until\n"
     ]
    },
    {
     "data": {
      "text/html": [
       "<div>\n",
       "<style scoped>\n",
       "    .dataframe tbody tr th:only-of-type {\n",
       "        vertical-align: middle;\n",
       "    }\n",
       "\n",
       "    .dataframe tbody tr th {\n",
       "        vertical-align: top;\n",
       "    }\n",
       "\n",
       "    .dataframe thead th {\n",
       "        text-align: right;\n",
       "    }\n",
       "</style>\n",
       "<table border=\"1\" class=\"dataframe\">\n",
       "  <thead>\n",
       "    <tr style=\"text-align: right;\">\n",
       "      <th></th>\n",
       "      <th>player_name</th>\n",
       "      <th>mean</th>\n",
       "      <th>variance</th>\n",
       "      <th>games</th>\n",
       "    </tr>\n",
       "  </thead>\n",
       "  <tbody>\n",
       "    <tr>\n",
       "      <th>0</th>\n",
       "      <td>players_1</td>\n",
       "      <td>0.5108</td>\n",
       "      <td>3.5088</td>\n",
       "      <td>2500</td>\n",
       "    </tr>\n",
       "    <tr>\n",
       "      <th>1</th>\n",
       "      <td>players_2</td>\n",
       "      <td>0.5108</td>\n",
       "      <td>3.5088</td>\n",
       "      <td>2500</td>\n",
       "    </tr>\n",
       "    <tr>\n",
       "      <th>2</th>\n",
       "      <td>players_3</td>\n",
       "      <td>0.5108</td>\n",
       "      <td>3.5088</td>\n",
       "      <td>2500</td>\n",
       "    </tr>\n",
       "    <tr>\n",
       "      <th>3</th>\n",
       "      <td>players_4</td>\n",
       "      <td>0.5108</td>\n",
       "      <td>3.5088</td>\n",
       "      <td>2500</td>\n",
       "    </tr>\n",
       "    <tr>\n",
       "      <th>4</th>\n",
       "      <td>players_5</td>\n",
       "      <td>0.5108</td>\n",
       "      <td>3.5088</td>\n",
       "      <td>2500</td>\n",
       "    </tr>\n",
       "    <tr>\n",
       "      <th>5</th>\n",
       "      <td>players_6</td>\n",
       "      <td>-2.5540</td>\n",
       "      <td>103.0440</td>\n",
       "      <td>2500</td>\n",
       "    </tr>\n",
       "  </tbody>\n",
       "</table>\n",
       "</div>"
      ],
      "text/plain": [
       "  player_name    mean  variance  games\n",
       "0   players_1  0.5108    3.5088   2500\n",
       "1   players_2  0.5108    3.5088   2500\n",
       "2   players_3  0.5108    3.5088   2500\n",
       "3   players_4  0.5108    3.5088   2500\n",
       "4   players_5  0.5108    3.5088   2500\n",
       "5   players_6 -2.5540  103.0440   2500"
      ]
     },
     "execution_count": 9,
     "metadata": {},
     "output_type": "execute_result"
    }
   ],
   "source": [
    "chips_gained_per_game = games.groupby('player_name').mean('game_net_change')[['game_net_change']].reset_index()\n",
    "variance_calculation = games[['player_name','game_net_change']]\n",
    "variance_calculation['game_net_change'] = variance_calculation['game_net_change'] ** 2\n",
    "expectation_squared = variance_calculation.groupby('player_name').mean('game_net_change').reset_index()\n",
    "merged_expectations = pd.merge(expectation_squared,chips_gained_per_game,on='player_name')\n",
    "merged_expectations['variance'] = merged_expectations['game_net_change_x'] - merged_expectations['game_net_change_y']\n",
    "summary_stats = merged_expectations[['player_name','game_net_change_y','variance']]\n",
    "summary_stats.columns = ['player_name','mean','variance']\n",
    "summary_stats['games'] = number_of_games\n",
    "summary_stats"
   ]
  },
  {
   "cell_type": "markdown",
   "metadata": {},
   "source": [
    "Top 10 Best Card Hands Dealt by Mean Number of Chips Gained "
   ]
  },
  {
   "cell_type": "code",
   "execution_count": 10,
   "metadata": {},
   "outputs": [
    {
     "data": {
      "text/html": [
       "<div>\n",
       "<style scoped>\n",
       "    .dataframe tbody tr th:only-of-type {\n",
       "        vertical-align: middle;\n",
       "    }\n",
       "\n",
       "    .dataframe tbody tr th {\n",
       "        vertical-align: top;\n",
       "    }\n",
       "\n",
       "    .dataframe thead th {\n",
       "        text-align: right;\n",
       "    }\n",
       "</style>\n",
       "<table border=\"1\" class=\"dataframe\">\n",
       "  <thead>\n",
       "    <tr style=\"text-align: right;\">\n",
       "      <th></th>\n",
       "      <th>player_name</th>\n",
       "      <th>hand1</th>\n",
       "      <th>hand2</th>\n",
       "      <th>game_net_change</th>\n",
       "    </tr>\n",
       "  </thead>\n",
       "  <tbody>\n",
       "    <tr>\n",
       "      <th>830</th>\n",
       "      <td>players_1</td>\n",
       "      <td>6-clubs</td>\n",
       "      <td>J-clubs</td>\n",
       "      <td>12.000000</td>\n",
       "    </tr>\n",
       "    <tr>\n",
       "      <th>186</th>\n",
       "      <td>players_1</td>\n",
       "      <td>10-spades</td>\n",
       "      <td>K-hearts</td>\n",
       "      <td>10.000000</td>\n",
       "    </tr>\n",
       "    <tr>\n",
       "      <th>356</th>\n",
       "      <td>players_1</td>\n",
       "      <td>2-spades</td>\n",
       "      <td>9-spades</td>\n",
       "      <td>9.000000</td>\n",
       "    </tr>\n",
       "    <tr>\n",
       "      <th>1095</th>\n",
       "      <td>players_1</td>\n",
       "      <td>8-spades</td>\n",
       "      <td>9-hearts</td>\n",
       "      <td>8.666667</td>\n",
       "    </tr>\n",
       "    <tr>\n",
       "      <th>1094</th>\n",
       "      <td>players_1</td>\n",
       "      <td>8-spades</td>\n",
       "      <td>9-diamonds</td>\n",
       "      <td>8.000000</td>\n",
       "    </tr>\n",
       "    <tr>\n",
       "      <th>1234</th>\n",
       "      <td>players_1</td>\n",
       "      <td>J-clubs</td>\n",
       "      <td>K-clubs</td>\n",
       "      <td>8.000000</td>\n",
       "    </tr>\n",
       "    <tr>\n",
       "      <th>401</th>\n",
       "      <td>players_1</td>\n",
       "      <td>3-clubs</td>\n",
       "      <td>A-hearts</td>\n",
       "      <td>7.000000</td>\n",
       "    </tr>\n",
       "    <tr>\n",
       "      <th>520</th>\n",
       "      <td>players_1</td>\n",
       "      <td>3-spades</td>\n",
       "      <td>9-spades</td>\n",
       "      <td>7.000000</td>\n",
       "    </tr>\n",
       "    <tr>\n",
       "      <th>120</th>\n",
       "      <td>players_1</td>\n",
       "      <td>10-hearts</td>\n",
       "      <td>7-diamonds</td>\n",
       "      <td>6.000000</td>\n",
       "    </tr>\n",
       "    <tr>\n",
       "      <th>299</th>\n",
       "      <td>players_1</td>\n",
       "      <td>2-hearts</td>\n",
       "      <td>6-hearts</td>\n",
       "      <td>6.000000</td>\n",
       "    </tr>\n",
       "    <tr>\n",
       "      <th>1548</th>\n",
       "      <td>players_2</td>\n",
       "      <td>2-diamonds</td>\n",
       "      <td>6-clubs</td>\n",
       "      <td>10.000000</td>\n",
       "    </tr>\n",
       "    <tr>\n",
       "      <th>1701</th>\n",
       "      <td>players_2</td>\n",
       "      <td>3-clubs</td>\n",
       "      <td>J-spades</td>\n",
       "      <td>8.000000</td>\n",
       "    </tr>\n",
       "    <tr>\n",
       "      <th>2399</th>\n",
       "      <td>players_2</td>\n",
       "      <td>8-spades</td>\n",
       "      <td>J-spades</td>\n",
       "      <td>6.500000</td>\n",
       "    </tr>\n",
       "    <tr>\n",
       "      <th>1359</th>\n",
       "      <td>players_2</td>\n",
       "      <td>10-diamonds</td>\n",
       "      <td>4-hearts</td>\n",
       "      <td>6.000000</td>\n",
       "    </tr>\n",
       "    <tr>\n",
       "      <th>1461</th>\n",
       "      <td>players_2</td>\n",
       "      <td>10-spades</td>\n",
       "      <td>7-clubs</td>\n",
       "      <td>6.000000</td>\n",
       "    </tr>\n",
       "    <tr>\n",
       "      <th>1482</th>\n",
       "      <td>players_2</td>\n",
       "      <td>10-spades</td>\n",
       "      <td>K-hearts</td>\n",
       "      <td>6.000000</td>\n",
       "    </tr>\n",
       "    <tr>\n",
       "      <th>2409</th>\n",
       "      <td>players_2</td>\n",
       "      <td>9-clubs</td>\n",
       "      <td>9-hearts</td>\n",
       "      <td>6.000000</td>\n",
       "    </tr>\n",
       "    <tr>\n",
       "      <th>2550</th>\n",
       "      <td>players_2</td>\n",
       "      <td>J-hearts</td>\n",
       "      <td>K-clubs</td>\n",
       "      <td>6.000000</td>\n",
       "    </tr>\n",
       "    <tr>\n",
       "      <th>1916</th>\n",
       "      <td>players_2</td>\n",
       "      <td>4-hearts</td>\n",
       "      <td>7-hearts</td>\n",
       "      <td>5.500000</td>\n",
       "    </tr>\n",
       "    <tr>\n",
       "      <th>1332</th>\n",
       "      <td>players_2</td>\n",
       "      <td>10-clubs</td>\n",
       "      <td>A-clubs</td>\n",
       "      <td>5.000000</td>\n",
       "    </tr>\n",
       "    <tr>\n",
       "      <th>3451</th>\n",
       "      <td>players_3</td>\n",
       "      <td>6-diamonds</td>\n",
       "      <td>Q-clubs</td>\n",
       "      <td>14.000000</td>\n",
       "    </tr>\n",
       "    <tr>\n",
       "      <th>3332</th>\n",
       "      <td>players_3</td>\n",
       "      <td>5-diamonds</td>\n",
       "      <td>Q-spades</td>\n",
       "      <td>7.000000</td>\n",
       "    </tr>\n",
       "    <tr>\n",
       "      <th>2753</th>\n",
       "      <td>players_3</td>\n",
       "      <td>10-spades</td>\n",
       "      <td>5-spades</td>\n",
       "      <td>6.000000</td>\n",
       "    </tr>\n",
       "    <tr>\n",
       "      <th>3047</th>\n",
       "      <td>players_3</td>\n",
       "      <td>3-hearts</td>\n",
       "      <td>5-hearts</td>\n",
       "      <td>6.000000</td>\n",
       "    </tr>\n",
       "    <tr>\n",
       "      <th>3533</th>\n",
       "      <td>players_3</td>\n",
       "      <td>7-clubs</td>\n",
       "      <td>Q-clubs</td>\n",
       "      <td>6.000000</td>\n",
       "    </tr>\n",
       "    <tr>\n",
       "      <th>2830</th>\n",
       "      <td>players_3</td>\n",
       "      <td>2-clubs</td>\n",
       "      <td>Q-diamonds</td>\n",
       "      <td>5.600000</td>\n",
       "    </tr>\n",
       "    <tr>\n",
       "      <th>3121</th>\n",
       "      <td>players_3</td>\n",
       "      <td>4-clubs</td>\n",
       "      <td>5-clubs</td>\n",
       "      <td>5.500000</td>\n",
       "    </tr>\n",
       "    <tr>\n",
       "      <th>2705</th>\n",
       "      <td>players_3</td>\n",
       "      <td>10-hearts</td>\n",
       "      <td>5-diamonds</td>\n",
       "      <td>5.000000</td>\n",
       "    </tr>\n",
       "    <tr>\n",
       "      <th>3524</th>\n",
       "      <td>players_3</td>\n",
       "      <td>7-clubs</td>\n",
       "      <td>A-hearts</td>\n",
       "      <td>5.000000</td>\n",
       "    </tr>\n",
       "    <tr>\n",
       "      <th>3706</th>\n",
       "      <td>players_3</td>\n",
       "      <td>9-clubs</td>\n",
       "      <td>K-diamonds</td>\n",
       "      <td>5.000000</td>\n",
       "    </tr>\n",
       "    <tr>\n",
       "      <th>4569</th>\n",
       "      <td>players_4</td>\n",
       "      <td>5-clubs</td>\n",
       "      <td>6-spades</td>\n",
       "      <td>10.000000</td>\n",
       "    </tr>\n",
       "    <tr>\n",
       "      <th>4910</th>\n",
       "      <td>players_4</td>\n",
       "      <td>8-clubs</td>\n",
       "      <td>9-diamonds</td>\n",
       "      <td>9.000000</td>\n",
       "    </tr>\n",
       "    <tr>\n",
       "      <th>4699</th>\n",
       "      <td>players_4</td>\n",
       "      <td>6-clubs</td>\n",
       "      <td>8-clubs</td>\n",
       "      <td>7.000000</td>\n",
       "    </tr>\n",
       "    <tr>\n",
       "      <th>3934</th>\n",
       "      <td>players_4</td>\n",
       "      <td>10-diamonds</td>\n",
       "      <td>3-spades</td>\n",
       "      <td>6.000000</td>\n",
       "    </tr>\n",
       "    <tr>\n",
       "      <th>4052</th>\n",
       "      <td>players_4</td>\n",
       "      <td>10-spades</td>\n",
       "      <td>9-hearts</td>\n",
       "      <td>6.000000</td>\n",
       "    </tr>\n",
       "    <tr>\n",
       "      <th>4264</th>\n",
       "      <td>players_4</td>\n",
       "      <td>3-clubs</td>\n",
       "      <td>6-spades</td>\n",
       "      <td>5.000000</td>\n",
       "    </tr>\n",
       "    <tr>\n",
       "      <th>5103</th>\n",
       "      <td>players_4</td>\n",
       "      <td>A-spades</td>\n",
       "      <td>J-spades</td>\n",
       "      <td>5.000000</td>\n",
       "    </tr>\n",
       "    <tr>\n",
       "      <th>4877</th>\n",
       "      <td>players_4</td>\n",
       "      <td>7-hearts</td>\n",
       "      <td>K-hearts</td>\n",
       "      <td>4.666667</td>\n",
       "    </tr>\n",
       "    <tr>\n",
       "      <th>4196</th>\n",
       "      <td>players_4</td>\n",
       "      <td>2-hearts</td>\n",
       "      <td>J-diamonds</td>\n",
       "      <td>4.500000</td>\n",
       "    </tr>\n",
       "    <tr>\n",
       "      <th>4055</th>\n",
       "      <td>players_4</td>\n",
       "      <td>10-spades</td>\n",
       "      <td>A-diamonds</td>\n",
       "      <td>4.000000</td>\n",
       "    </tr>\n",
       "    <tr>\n",
       "      <th>5496</th>\n",
       "      <td>players_5</td>\n",
       "      <td>2-hearts</td>\n",
       "      <td>K-clubs</td>\n",
       "      <td>10.000000</td>\n",
       "    </tr>\n",
       "    <tr>\n",
       "      <th>6372</th>\n",
       "      <td>players_5</td>\n",
       "      <td>A-diamonds</td>\n",
       "      <td>A-spades</td>\n",
       "      <td>7.000000</td>\n",
       "    </tr>\n",
       "    <tr>\n",
       "      <th>5476</th>\n",
       "      <td>players_5</td>\n",
       "      <td>2-hearts</td>\n",
       "      <td>7-clubs</td>\n",
       "      <td>6.000000</td>\n",
       "    </tr>\n",
       "    <tr>\n",
       "      <th>5521</th>\n",
       "      <td>players_5</td>\n",
       "      <td>2-spades</td>\n",
       "      <td>7-diamonds</td>\n",
       "      <td>6.000000</td>\n",
       "    </tr>\n",
       "    <tr>\n",
       "      <th>5839</th>\n",
       "      <td>players_5</td>\n",
       "      <td>4-spades</td>\n",
       "      <td>9-hearts</td>\n",
       "      <td>6.000000</td>\n",
       "    </tr>\n",
       "    <tr>\n",
       "      <th>6168</th>\n",
       "      <td>players_5</td>\n",
       "      <td>7-hearts</td>\n",
       "      <td>J-spades</td>\n",
       "      <td>6.000000</td>\n",
       "    </tr>\n",
       "    <tr>\n",
       "      <th>5299</th>\n",
       "      <td>players_5</td>\n",
       "      <td>10-hearts</td>\n",
       "      <td>8-clubs</td>\n",
       "      <td>5.000000</td>\n",
       "    </tr>\n",
       "    <tr>\n",
       "      <th>5386</th>\n",
       "      <td>players_5</td>\n",
       "      <td>2-clubs</td>\n",
       "      <td>6-hearts</td>\n",
       "      <td>5.000000</td>\n",
       "    </tr>\n",
       "    <tr>\n",
       "      <th>5387</th>\n",
       "      <td>players_5</td>\n",
       "      <td>2-clubs</td>\n",
       "      <td>6-spades</td>\n",
       "      <td>5.000000</td>\n",
       "    </tr>\n",
       "    <tr>\n",
       "      <th>5481</th>\n",
       "      <td>players_5</td>\n",
       "      <td>2-hearts</td>\n",
       "      <td>8-diamonds</td>\n",
       "      <td>5.000000</td>\n",
       "    </tr>\n",
       "    <tr>\n",
       "      <th>6475</th>\n",
       "      <td>players_6</td>\n",
       "      <td>10-clubs</td>\n",
       "      <td>10-spades</td>\n",
       "      <td>0.000000</td>\n",
       "    </tr>\n",
       "    <tr>\n",
       "      <th>6476</th>\n",
       "      <td>players_6</td>\n",
       "      <td>10-clubs</td>\n",
       "      <td>2-clubs</td>\n",
       "      <td>0.000000</td>\n",
       "    </tr>\n",
       "    <tr>\n",
       "      <th>6478</th>\n",
       "      <td>players_6</td>\n",
       "      <td>10-clubs</td>\n",
       "      <td>2-hearts</td>\n",
       "      <td>0.000000</td>\n",
       "    </tr>\n",
       "    <tr>\n",
       "      <th>6480</th>\n",
       "      <td>players_6</td>\n",
       "      <td>10-clubs</td>\n",
       "      <td>3-clubs</td>\n",
       "      <td>0.000000</td>\n",
       "    </tr>\n",
       "    <tr>\n",
       "      <th>6482</th>\n",
       "      <td>players_6</td>\n",
       "      <td>10-clubs</td>\n",
       "      <td>3-hearts</td>\n",
       "      <td>0.000000</td>\n",
       "    </tr>\n",
       "    <tr>\n",
       "      <th>6483</th>\n",
       "      <td>players_6</td>\n",
       "      <td>10-clubs</td>\n",
       "      <td>3-spades</td>\n",
       "      <td>0.000000</td>\n",
       "    </tr>\n",
       "    <tr>\n",
       "      <th>6484</th>\n",
       "      <td>players_6</td>\n",
       "      <td>10-clubs</td>\n",
       "      <td>4-clubs</td>\n",
       "      <td>0.000000</td>\n",
       "    </tr>\n",
       "    <tr>\n",
       "      <th>6485</th>\n",
       "      <td>players_6</td>\n",
       "      <td>10-clubs</td>\n",
       "      <td>4-diamonds</td>\n",
       "      <td>0.000000</td>\n",
       "    </tr>\n",
       "    <tr>\n",
       "      <th>6486</th>\n",
       "      <td>players_6</td>\n",
       "      <td>10-clubs</td>\n",
       "      <td>4-hearts</td>\n",
       "      <td>0.000000</td>\n",
       "    </tr>\n",
       "    <tr>\n",
       "      <th>6487</th>\n",
       "      <td>players_6</td>\n",
       "      <td>10-clubs</td>\n",
       "      <td>4-spades</td>\n",
       "      <td>0.000000</td>\n",
       "    </tr>\n",
       "  </tbody>\n",
       "</table>\n",
       "</div>"
      ],
      "text/plain": [
       "     player_name        hand1       hand2  game_net_change\n",
       "830    players_1      6-clubs     J-clubs        12.000000\n",
       "186    players_1    10-spades    K-hearts        10.000000\n",
       "356    players_1     2-spades    9-spades         9.000000\n",
       "1095   players_1     8-spades    9-hearts         8.666667\n",
       "1094   players_1     8-spades  9-diamonds         8.000000\n",
       "1234   players_1      J-clubs     K-clubs         8.000000\n",
       "401    players_1      3-clubs    A-hearts         7.000000\n",
       "520    players_1     3-spades    9-spades         7.000000\n",
       "120    players_1    10-hearts  7-diamonds         6.000000\n",
       "299    players_1     2-hearts    6-hearts         6.000000\n",
       "1548   players_2   2-diamonds     6-clubs        10.000000\n",
       "1701   players_2      3-clubs    J-spades         8.000000\n",
       "2399   players_2     8-spades    J-spades         6.500000\n",
       "1359   players_2  10-diamonds    4-hearts         6.000000\n",
       "1461   players_2    10-spades     7-clubs         6.000000\n",
       "1482   players_2    10-spades    K-hearts         6.000000\n",
       "2409   players_2      9-clubs    9-hearts         6.000000\n",
       "2550   players_2     J-hearts     K-clubs         6.000000\n",
       "1916   players_2     4-hearts    7-hearts         5.500000\n",
       "1332   players_2     10-clubs     A-clubs         5.000000\n",
       "3451   players_3   6-diamonds     Q-clubs        14.000000\n",
       "3332   players_3   5-diamonds    Q-spades         7.000000\n",
       "2753   players_3    10-spades    5-spades         6.000000\n",
       "3047   players_3     3-hearts    5-hearts         6.000000\n",
       "3533   players_3      7-clubs     Q-clubs         6.000000\n",
       "2830   players_3      2-clubs  Q-diamonds         5.600000\n",
       "3121   players_3      4-clubs     5-clubs         5.500000\n",
       "2705   players_3    10-hearts  5-diamonds         5.000000\n",
       "3524   players_3      7-clubs    A-hearts         5.000000\n",
       "3706   players_3      9-clubs  K-diamonds         5.000000\n",
       "4569   players_4      5-clubs    6-spades        10.000000\n",
       "4910   players_4      8-clubs  9-diamonds         9.000000\n",
       "4699   players_4      6-clubs     8-clubs         7.000000\n",
       "3934   players_4  10-diamonds    3-spades         6.000000\n",
       "4052   players_4    10-spades    9-hearts         6.000000\n",
       "4264   players_4      3-clubs    6-spades         5.000000\n",
       "5103   players_4     A-spades    J-spades         5.000000\n",
       "4877   players_4     7-hearts    K-hearts         4.666667\n",
       "4196   players_4     2-hearts  J-diamonds         4.500000\n",
       "4055   players_4    10-spades  A-diamonds         4.000000\n",
       "5496   players_5     2-hearts     K-clubs        10.000000\n",
       "6372   players_5   A-diamonds    A-spades         7.000000\n",
       "5476   players_5     2-hearts     7-clubs         6.000000\n",
       "5521   players_5     2-spades  7-diamonds         6.000000\n",
       "5839   players_5     4-spades    9-hearts         6.000000\n",
       "6168   players_5     7-hearts    J-spades         6.000000\n",
       "5299   players_5    10-hearts     8-clubs         5.000000\n",
       "5386   players_5      2-clubs    6-hearts         5.000000\n",
       "5387   players_5      2-clubs    6-spades         5.000000\n",
       "5481   players_5     2-hearts  8-diamonds         5.000000\n",
       "6475   players_6     10-clubs   10-spades         0.000000\n",
       "6476   players_6     10-clubs     2-clubs         0.000000\n",
       "6478   players_6     10-clubs    2-hearts         0.000000\n",
       "6480   players_6     10-clubs     3-clubs         0.000000\n",
       "6482   players_6     10-clubs    3-hearts         0.000000\n",
       "6483   players_6     10-clubs    3-spades         0.000000\n",
       "6484   players_6     10-clubs     4-clubs         0.000000\n",
       "6485   players_6     10-clubs  4-diamonds         0.000000\n",
       "6486   players_6     10-clubs    4-hearts         0.000000\n",
       "6487   players_6     10-clubs    4-spades         0.000000"
      ]
     },
     "execution_count": 10,
     "metadata": {},
     "output_type": "execute_result"
    }
   ],
   "source": [
    "two_card_hands = hands[['game_id','player_name','player_type','hand1','hand2','game_net_change']]\n",
    "two_card_hands = two_card_hands.drop_duplicates()\n",
    "best_two_card_hands = two_card_hands.groupby(['player_name','hand1','hand2']).mean().reset_index()[['player_name','hand1','hand2','game_net_change']]\n",
    "best_two_card_hands = best_two_card_hands.sort_values(by=['player_name','game_net_change'], ascending=[True,False])\n",
    "best_two_card_hands.groupby('player_name').head(10)"
   ]
  },
  {
   "cell_type": "code",
   "execution_count": 17,
   "metadata": {
    "ExecuteTime": {
     "end_time": "2021-04-16T15:14:37.427000Z",
     "start_time": "2021-04-16T15:14:37.413001Z"
    }
   },
   "outputs": [
    {
     "data": {
      "text/plain": [
       "array([  7,   8, -24])"
      ]
     },
     "execution_count": 17,
     "metadata": {},
     "output_type": "execute_result"
    }
   ],
   "source": [
    "import numpy as np\n",
    "\n",
    "a=np.array([3,3,-30])\n",
    "b=np.array([4,5,6])\n",
    "a+b"
   ]
  },
  {
   "cell_type": "code",
   "execution_count": 21,
   "metadata": {
    "ExecuteTime": {
     "end_time": "2021-04-16T16:00:11.367124Z",
     "start_time": "2021-04-16T16:00:11.362126Z"
    }
   },
   "outputs": [
    {
     "name": "stdout",
     "output_type": "stream",
     "text": [
      "C:\\Users\\shiras.PHILLIPS66\\AppData\\Local\\Continuum\\anaconda3\\python.exe\n"
     ]
    }
   ],
   "source": [
    "import sys\n",
    "print(sys.executable)"
   ]
  },
  {
   "cell_type": "code",
   "execution_count": 22,
   "metadata": {
    "ExecuteTime": {
     "end_time": "2021-04-16T18:00:14.840770Z",
     "start_time": "2021-04-16T18:00:14.826770Z"
    }
   },
   "outputs": [
    {
     "data": {
      "text/plain": [
       "'C:\\\\Users\\\\shiras.PHILLIPS66\\\\AppData\\\\Local\\\\Continuum\\\\anaconda3\\\\lib\\\\site-packages\\\\numpy\\\\__init__.py'"
      ]
     },
     "execution_count": 22,
     "metadata": {},
     "output_type": "execute_result"
    }
   ],
   "source": [
    "np.__file__"
   ]
  },
  {
   "cell_type": "code",
   "execution_count": null,
   "metadata": {},
   "outputs": [],
   "source": []
  }
 ],
 "metadata": {
  "kernelspec": {
   "display_name": "Python 3",
   "language": "python",
   "name": "python3"
  },
  "language_info": {
   "codemirror_mode": {
    "name": "ipython",
    "version": 3
   },
   "file_extension": ".py",
   "mimetype": "text/x-python",
   "name": "python",
   "nbconvert_exporter": "python",
   "pygments_lexer": "ipython3",
   "version": "3.7.4"
  },
  "toc": {
   "base_numbering": 1,
   "nav_menu": {},
   "number_sections": true,
   "sideBar": true,
   "skip_h1_title": false,
   "title_cell": "Table of Contents",
   "title_sidebar": "Contents",
   "toc_cell": false,
   "toc_position": {},
   "toc_section_display": true,
   "toc_window_display": false
  }
 },
 "nbformat": 4,
 "nbformat_minor": 2
}
